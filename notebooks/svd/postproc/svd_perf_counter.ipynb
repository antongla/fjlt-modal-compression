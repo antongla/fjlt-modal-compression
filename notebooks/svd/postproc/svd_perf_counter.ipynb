{
 "cells": [
  {
   "attachments": {},
   "cell_type": "markdown",
   "metadata": {},
   "source": [
    "# Performance counters for SVD vs FJLT (No data save)"
   ]
  },
  {
   "cell_type": "code",
   "execution_count": null,
   "metadata": {},
   "outputs": [],
   "source": [
    "from tqdm import tqdm\n",
    "import sys\n",
    "import matplotlib.pyplot as plt\n",
    "sys.path.append('../../../utils')\n",
    "import gc\n",
    "from time import perf_counter\n",
    "from TurboFJLT import *\n",
    "from TurboFJLT_helpers import FJLT, TurboHDF5Reader"
   ]
  },
  {
   "cell_type": "code",
   "execution_count": null,
   "metadata": {},
   "outputs": [],
   "source": [
    "%config InlineBackend.figure_format='retina'\n",
    "plt.style.use(\"../../../mplstyles/paper_half.mplstyle\")"
   ]
  },
  {
   "cell_type": "code",
   "execution_count": null,
   "metadata": {},
   "outputs": [],
   "source": [
    "timing_averaging_iterations = 5"
   ]
  },
  {
   "cell_type": "code",
   "execution_count": null,
   "metadata": {},
   "outputs": [],
   "source": [
    "datafile = \"../../../data/fine_airfoil_cascade.h5\"\n",
    "reader = TurboHDF5Reader(datafile)\n",
    "print(reader)"
   ]
  },
  {
   "attachments": {},
   "cell_type": "markdown",
   "metadata": {},
   "source": [
    "### Extract the data"
   ]
  },
  {
   "cell_type": "code",
   "execution_count": null,
   "metadata": {},
   "outputs": [],
   "source": [
    "num_snapshots = 500\n",
    "snapshot_sequence = list(range(num_snapshots))"
   ]
  },
  {
   "cell_type": "code",
   "execution_count": null,
   "metadata": {},
   "outputs": [],
   "source": [
    "q_mf = reader.load_meanflow()"
   ]
  },
  {
   "cell_type": "code",
   "execution_count": null,
   "metadata": {},
   "outputs": [],
   "source": [
    "def formQ(reader, seq_to_extract):\n",
    "    num_dofs = reader.state_dim\n",
    "    Q = np.zeros((num_dofs, len(list(seq_to_extract))))\n",
    "    reader.reset_chunked_loading(seq_to_extract, chunks_dim=50)\n",
    "    for i, _ in enumerate(tqdm(seq_to_extract)):\n",
    "        Q[:, i] = reader.load_next()-q_mf\n",
    "    return Q"
   ]
  },
  {
   "cell_type": "code",
   "execution_count": null,
   "metadata": {},
   "outputs": [],
   "source": [
    "Q = formQ(reader, snapshot_sequence)\n",
    "dt_direct = 0\n",
    "for _ in range(timing_averaging_iterations):\n",
    "    t0 = perf_counter()\n",
    "    u, s, vh = np.linalg.svd(Q, full_matrices=False)\n",
    "    t1 = perf_counter()\n",
    "    dt_direct += t1-t0\n",
    "dt_direct /= timing_averaging_iterations\n",
    "print(\"Direct SVD application time: {}s\".format(dt_direct))"
   ]
  },
  {
   "cell_type": "code",
   "execution_count": null,
   "metadata": {},
   "outputs": [],
   "source": [
    "# Garbage collection for memory\n",
    "del Q\n",
    "del u\n",
    "del s\n",
    "del vh\n",
    "gc.collect()"
   ]
  },
  {
   "cell_type": "code",
   "execution_count": null,
   "metadata": {},
   "outputs": [],
   "source": [
    "def formB(reader, fjlt, seq_to_extract):\n",
    "    num_dofs = reader.state_dim\n",
    "    B = np.zeros((fjlt.embedding_dim, len(list(seq_to_extract))))\n",
    "    reader.reset_chunked_loading(seq_to_extract, chunks_dim=50)\n",
    "    for i, _ in enumerate(tqdm(seq_to_extract)):\n",
    "        q_ss = reader.load_next()-q_mf\n",
    "        B[:, i] = applyFJLT(q_ss, fjlt.P, fjlt.s, fjlt.D)\n",
    "    return B"
   ]
  },
  {
   "attachments": {},
   "cell_type": "markdown",
   "metadata": {},
   "source": [
    "### Compute the SVD with the FJLT"
   ]
  },
  {
   "cell_type": "code",
   "execution_count": null,
   "metadata": {},
   "outputs": [],
   "source": [
    "def fjlt_svd(reader, num_linking_snapshots, snapshots_to_extract):\n",
    "    fjlt = FJLT(reader.state_dim, num_linking_snapshots, 0.01)\n",
    "    B = formB(reader, fjlt, snapshots_to_extract)\n",
    "    dt = 0\n",
    "    for _ in range(timing_averaging_iterations):\n",
    "        t0 = perf_counter()\n",
    "        fjlt_u, fjlt_s, fjlt_vh = np.linalg.svd(B, full_matrices=False)\n",
    "        t1 = perf_counter()\n",
    "        dt += t1 - t0\n",
    "    dt /= timing_averaging_iterations\n",
    "    return fjlt_u, fjlt_s, fjlt_vh, dt"
   ]
  },
  {
   "cell_type": "code",
   "execution_count": null,
   "metadata": {},
   "outputs": [],
   "source": [
    "num_linking_snapshots = [2, 4, 6, 8, 12, 16, 24, 32]\n",
    "perf_counters = []\n",
    "for n_sp in num_linking_snapshots:\n",
    "    fjlt_u, fjlt_s, fjlt_vh, dt_perf = fjlt_svd(reader, n_sp, snapshot_sequence)\n",
    "    print(\"FJLT ({}, snapshots) SVD application time: {}s\".format(n_sp, dt_perf))\n",
    "    perf_counters.append(dt_perf)\n",
    "    # Garbage collection for memory\n",
    "    del fjlt_u\n",
    "    del fjlt_s\n",
    "    del fjlt_vh\n",
    "    gc.collect()"
   ]
  },
  {
   "cell_type": "markdown",
   "metadata": {},
   "source": [
    "### Plot the performance counter timings"
   ]
  },
  {
   "cell_type": "code",
   "execution_count": null,
   "metadata": {},
   "outputs": [],
   "source": [
    "fig, ax = plt.subplots(ncols=1, nrows=1)\n",
    "ax.plot(num_linking_snapshots, perf_counters, marker=\"o\")\n",
    "ax.set_xlabel(r\"N\")\n",
    "ax.set_ylabel(r\"Time (s)\")"
   ]
  },
  {
   "cell_type": "code",
   "execution_count": null,
   "metadata": {},
   "outputs": [],
   "source": [
    "print(num_linking_snapshots)\n",
    "print(perf_counters)"
   ]
  }
 ],
 "metadata": {
  "kernelspec": {
   "display_name": "base",
   "language": "python",
   "name": "python3"
  },
  "language_info": {
   "codemirror_mode": {
    "name": "ipython",
    "version": 3
   },
   "file_extension": ".py",
   "mimetype": "text/x-python",
   "name": "python",
   "nbconvert_exporter": "python",
   "pygments_lexer": "ipython3",
   "version": "3.12.5"
  }
 },
 "nbformat": 4,
 "nbformat_minor": 2
}
