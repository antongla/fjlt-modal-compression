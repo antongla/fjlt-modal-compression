{
 "cells": [
  {
   "attachments": {},
   "cell_type": "markdown",
   "metadata": {},
   "source": [
    "# Evaluate reconstruction errors in SVD"
   ]
  },
  {
   "cell_type": "code",
   "execution_count": null,
   "metadata": {},
   "outputs": [],
   "source": [
    "import matplotlib as mpl\n",
    "from matplotlib.ticker import MaxNLocator\n",
    "import scipy.signal as sig\n",
    "from tqdm import tqdm\n",
    "import sys\n",
    "sys.path.append('../../../utils')\n",
    "import gc\n",
    "from TurboFJLT import *\n",
    "from InstantFrequency import inst_freq\n",
    "from TurboFJLT_helpers import TurboHDF5Reader"
   ]
  },
  {
   "cell_type": "code",
   "execution_count": null,
   "metadata": {},
   "outputs": [],
   "source": [
    "%config InlineBackend.figure_format='retina'\n",
    "plt.style.use(\"../../../mplstyles/paper_half.mplstyle\")\n",
    "cmap_b = mpl.colormaps['Blues']\n",
    "cmap_r = mpl.colormaps['Reds']\n",
    "blue = cmap_b(0.75)\n",
    "red = 'r'\n",
    "green = 'g'\n",
    "\n",
    "# Synchronise this with svd.ipynb\n",
    "e = 0.01\n",
    "sv_to_show = 20\n",
    "num_modes_to_visualise = 7\n",
    "num_snapshots = 500\n",
    "snapshot_sequence = list(range(num_snapshots))"
   ]
  },
  {
   "cell_type": "code",
   "execution_count": null,
   "metadata": {},
   "outputs": [],
   "source": [
    "Q_file = \"../../../data/fine_airfoil_cascade.h5\"\n",
    "dir_svd_file = \"../data/direct_svd.h5\"\n",
    "fjlt_svd_file = \"../data/fjlt_svd_{}_linking_snapshots.h5\""
   ]
  },
  {
   "cell_type": "code",
   "execution_count": null,
   "metadata": {},
   "outputs": [],
   "source": [
    "def formQ(reader, seq_to_extract):\n",
    "    q_mf = reader.load_meanflow()\n",
    "    Q = reader.load_full(seq_to_extract)\n",
    "    for i in range(Q.shape[1]):\n",
    "        Q[:, i] -= q_mf\n",
    "    return Q"
   ]
  },
  {
   "cell_type": "code",
   "execution_count": null,
   "metadata": {},
   "outputs": [],
   "source": [
    "# Print memory usage of each snapshot\n",
    "reader_temp = TurboHDF5Reader(Q_file)\n",
    "Q_temp = formQ(reader_temp, [0])\n",
    "mem_per_snap = Q_temp[:, 0].nbytes\n",
    "print(\"Memory per snapshot: {}B\".format(mem_per_snap))"
   ]
  },
  {
   "cell_type": "code",
   "execution_count": null,
   "metadata": {},
   "outputs": [],
   "source": [
    "with h5.File(dir_svd_file, 'r') as f:\n",
    "    dir_s = f[\"/s\"][()]"
   ]
  },
  {
   "attachments": {},
   "cell_type": "markdown",
   "metadata": {},
   "source": [
    "### Plot the singular values for varying numbers of linking snapshots\n",
    "Singular value error analysis for various FJLT subspace dimensions (i.e. number of linking snapshots)"
   ]
  },
  {
   "cell_type": "code",
   "execution_count": null,
   "metadata": {},
   "outputs": [],
   "source": [
    "def plot_singular_values(axs, s, s_f):\n",
    "    num_sing_vals = min([len(s),len(s_f)])\n",
    "    s, s_f = s[:num_sing_vals], s_f[:num_sing_vals]\n",
    "\n",
    "    axs[0].plot(np.arange(len(s)), s, color=blue, marker=\"o\", label=\"Direct\")\n",
    "    axs[0].plot(np.arange(len(s_f)), s_f, color=red, marker='x', label=\"FJLT\")\n",
    "    axs[1].plot(np.arange(len(s)), 100*np.abs(s-s_f)/s, color=green, marker=\"*\", label=\"Percentage error\")\n",
    "    axs[1].plot([0, len(s)], [100*e, 100*e], color=\"k\", alpha=0.5, ls=\"--\", label=\"FJLT distortion thresh.\")\n",
    "\n",
    "    axs[0].set_ylabel(r\"$\\sigma_i$\")\n",
    "    axs[1].set_ylabel(r\"$\\%$ error\")\n",
    "    axs[1].set_xlabel(r\"Mode index\")\n",
    "    for i in range(2):\n",
    "        axs[i].legend();\n",
    "        axs[i].set_xlim([0, sv_to_show])\n",
    "        axs[i].xaxis.set_major_locator(MaxNLocator(integer=True))"
   ]
  },
  {
   "cell_type": "code",
   "execution_count": null,
   "metadata": {},
   "outputs": [],
   "source": [
    "num_linking_snapshots = [2, 4, 6, 8, 12, 16, 24, 32]\n",
    "for n_sp in num_linking_snapshots:\n",
    "    with h5.File(fjlt_svd_file.format(n_sp), 'r') as f:\n",
    "        fjlt_s = f[\"/s\"][()]\n",
    "    fig, axs = plt.subplots(ncols=1, nrows=2, sharex=True)\n",
    "    plot_singular_values(axs, dir_s, fjlt_s)\n",
    "    plt.savefig(\"../figures/svd_singular_values_n_sp_{}.pdf\".format(n_sp),\n",
    "                bbox_inches=\"tight\", pad_inches=0.1,\n",
    "                facecolor=None, edgecolor='auto'\n",
    "                )"
   ]
  },
  {
   "attachments": {},
   "cell_type": "markdown",
   "metadata": {},
   "source": [
    "Illustration of relative error convergence with increasing number of snapshots."
   ]
  },
  {
   "cell_type": "code",
   "execution_count": null,
   "metadata": {},
   "outputs": [],
   "source": [
    "def plot_sv_error_convergence(ax, s, s_f, **kwargs):\n",
    "    s, s_f = s[:sv_to_show+1], s_f[:sv_to_show+1]\n",
    "    ax.plot(np.arange(len(s)), 100*np.abs(s-s_f)/s, marker=\"o\", **kwargs)\n",
    "\n",
    "    ax.set_ylabel(r\"$\\sigma_i$\")\n",
    "    ax.set_ylabel(r\"Relative error in $\\sigma$ $(\\%)$\")\n",
    "    ax.set_xlabel(r\"Mode index\")\n",
    "    ax.set_xlim([0, sv_to_show])"
   ]
  },
  {
   "cell_type": "code",
   "execution_count": null,
   "metadata": {},
   "outputs": [],
   "source": [
    "colors = plt.cm.Blues(np.linspace(0.3,1,len(num_linking_snapshots)))\n",
    "\n",
    "fig = plt.figure(figsize=(6.9/2, 2.1))\n",
    "ax=fig.gca()\n",
    "for i, n_sp in enumerate(num_linking_snapshots):\n",
    "    with h5.File(fjlt_svd_file.format(n_sp), 'r') as f:\n",
    "        fjlt_s = f[\"/s\"][()]\n",
    "        plot_sv_error_convergence(ax, dir_s, fjlt_s, color=colors[i], label=n_sp)\n",
    "\n",
    "# ax.plot([0, len(dir_s)], [100*e, 100*e], color=\"k\", alpha=0.5, ls=\"--\")\n",
    "ax.legend(ncols=4)\n",
    "ax.xaxis.set_major_locator(MaxNLocator(integer=True))\n",
    "plt.savefig(\"../figures/svd_singular_value_errors.pdf\",\n",
    "                bbox_inches=\"tight\", pad_inches=0.1,\n",
    "                facecolor=None, edgecolor='auto'\n",
    "                )"
   ]
  },
  {
   "attachments": {},
   "cell_type": "markdown",
   "metadata": {},
   "source": [
    "### Compare $V^H$ using PSD (Welch) and instantaneous frequency estimation (multiple signal classification algorithm (MUSIC))"
   ]
  },
  {
   "cell_type": "code",
   "execution_count": null,
   "metadata": {},
   "outputs": [],
   "source": [
    "def normalise_v(v):\n",
    "    for i in range(v.shape[1]):\n",
    "        norm = 1 if sum(v[:, i])>=0 else -1\n",
    "        v[:, i] *= norm\n",
    "    return None"
   ]
  },
  {
   "cell_type": "code",
   "execution_count": null,
   "metadata": {},
   "outputs": [],
   "source": [
    "with h5.File(dir_svd_file, 'r') as f:\n",
    "    dir_v = np.matrix(f[\"/VH\"][()]).H\n",
    "normalise_v(dir_v)"
   ]
  },
  {
   "cell_type": "code",
   "execution_count": null,
   "metadata": {},
   "outputs": [],
   "source": [
    "def get_v_error(V_a, V_b):\n",
    "    cols_to_check = min(V_a.shape[1], V_b.shape[1])\n",
    "    err = []\n",
    "    for i in range(cols_to_check):\n",
    "        v_a_col, v_b_col = V_a[:, i], V_b[:, i]\n",
    "        diff = np.sum(np.abs(np.abs(v_a_col-v_b_col)))\n",
    "        norm = np.sum(np.abs(v_a_col))\n",
    "        err.append(100*diff/norm)\n",
    "    return err"
   ]
  },
  {
   "cell_type": "code",
   "execution_count": null,
   "metadata": {},
   "outputs": [],
   "source": [
    "def plot_v_psd_error(ax, dir_V, fjlt_V, n_sp, line_color):\n",
    "    _, dir_v_psd = sig.welch(dir_V, axis=0)\n",
    "    _, fjlt_v_psd = sig.welch(fjlt_V, axis=0)\n",
    "    err = get_v_error(dir_v_psd, fjlt_v_psd)\n",
    "    ax.plot(np.arange(len(err)), err, marker=\"o\", color=line_color, label=n_sp)"
   ]
  },
  {
   "cell_type": "code",
   "execution_count": null,
   "metadata": {},
   "outputs": [],
   "source": [
    "def instant_frequency_proc(f, dt):\n",
    "    f = 2*np.pi*inst_freq(f, dt)\n",
    "    return f[f==f]"
   ]
  },
  {
   "cell_type": "code",
   "execution_count": null,
   "metadata": {},
   "outputs": [],
   "source": [
    "def plot_v_inst_freq_error(ax, dir_V, fjlt_V, n_sp, line_color):\n",
    "    n_cols = sv_to_show+1\n",
    "    temp = instant_frequency_proc(dir_V[:, 0], 1)\n",
    "    f_inst_dir = np.zeros((len(temp), n_cols))\n",
    "    f_inst_fjlt = np.zeros((len(temp), n_cols))\n",
    "\n",
    "    for i in range(n_cols):\n",
    "        f_inst_dir[:, i] = instant_frequency_proc(dir_V[:, i], 1)\n",
    "        f_inst_fjlt[:, i] = instant_frequency_proc(fjlt_V[:, i], 1)\n",
    "\n",
    "    err = get_v_error(f_inst_dir, f_inst_fjlt)\n",
    "    ax.plot(np.arange(len(err)), err, marker=\"o\", color=line_color, label=n_sp)"
   ]
  },
  {
   "cell_type": "code",
   "execution_count": null,
   "metadata": {},
   "outputs": [],
   "source": [
    "# WELCH\n",
    "plt.style.use(\"../../../mplstyles/paper_full.mplstyle\")\n",
    "fig, axs = plt.subplots(ncols=2, nrows=1, sharey=True, figsize=(6.9, 2.1))\n",
    "\n",
    "for i, n_sp in enumerate(num_linking_snapshots):\n",
    "    with h5.File(fjlt_svd_file.format(n_sp), 'r') as f:\n",
    "        fjlt_v = np.matrix(f[\"/VH\"][()]).H\n",
    "        normalise_v(fjlt_v)\n",
    "        plot_v_psd_error(axs[0], dir_v, fjlt_v, n_sp, line_color=colors[i])\n",
    "        del fjlt_v\n",
    "        gc.collect()\n",
    "\n",
    "axs[0].set_xlim(0, sv_to_show)\n",
    "axs[0].xaxis.set_major_locator(MaxNLocator(integer=True))\n",
    "axs[0].set_ylim(0, 80)\n",
    "# axs[0].legend(ncol=4)\n",
    "axs[0].set_xlabel(r\"Mode index\")\n",
    "axs[0].set_ylabel(r\"Relative $V$ col PSD $l_1$ error (%)\")\n",
    "\n",
    "\n",
    "\n",
    "# INST. FREQ.\n",
    "for i, n_sp in enumerate(num_linking_snapshots):\n",
    "    with h5.File(fjlt_svd_file.format(n_sp), 'r') as f:\n",
    "        fjlt_v = np.matrix(f[\"/VH\"][()]).H\n",
    "        normalise_v(fjlt_v)\n",
    "        plot_v_inst_freq_error(axs[1], dir_v, fjlt_v, n_sp, line_color=colors[i])\n",
    "        del fjlt_v\n",
    "        gc.collect()\n",
    "\n",
    "del dir_v\n",
    "gc.collect()\n",
    "\n",
    "axs[1].set_xlim(0, sv_to_show)\n",
    "axs[1].set_ylim(0, 80)\n",
    "axs[1].legend(ncol=4)\n",
    "axs[1].set_xlabel(r\"Mode index\")\n",
    "axs[1].xaxis.set_major_locator(MaxNLocator(integer=True))\n",
    "axs[1].set_ylabel(r\"Relative $V$ col inst. freq. $l_1$ error (%)\")\n",
    "plt.savefig(\"../figures/svd_v_error.pdf\",\n",
    "                bbox_inches=\"tight\", pad_inches=0.1,\n",
    "                facecolor=None, edgecolor='auto'\n",
    "                )"
   ]
  },
  {
   "attachments": {},
   "cell_type": "markdown",
   "metadata": {},
   "source": [
    "### Reconstruction of $U$"
   ]
  },
  {
   "attachments": {},
   "cell_type": "markdown",
   "metadata": {},
   "source": [
    "Reconstruct $U$ using the direct file and load $U$ directly from the SVD."
   ]
  },
  {
   "cell_type": "code",
   "execution_count": null,
   "metadata": {},
   "outputs": [],
   "source": [
    "plt.style.use(\"../../../mplstyles/paper_full.mplstyle\")"
   ]
  },
  {
   "cell_type": "code",
   "execution_count": null,
   "metadata": {},
   "outputs": [],
   "source": [
    "def reconstruct_U(Q_file, V_file, num_s_vals):\n",
    "    with h5.File(V_file, 'r') as f:\n",
    "        V = (np.matrix(f[\"/VH\"][:num_s_vals+1, :]).H)\n",
    "        normalise_v(V)\n",
    "        s = f[\"/s\"][:num_s_vals+1]\n",
    "        Vsinv = np.einsum(\"ij, j -> ij\", V, 1/s)\n",
    "\n",
    "    reader = TurboHDF5Reader(Q_file)\n",
    "    Q = formQ(reader, snapshot_sequence)\n",
    "    U = np.einsum(\"ij, jk -> ik\", Q, Vsinv)\n",
    "    return U"
   ]
  },
  {
   "cell_type": "code",
   "execution_count": null,
   "metadata": {},
   "outputs": [],
   "source": [
    "def load_U(U_file):\n",
    "    with h5.File(U_file, 'r') as f:\n",
    "        U = f[\"/U\"][()]\n",
    "    return U"
   ]
  },
  {
   "cell_type": "code",
   "execution_count": null,
   "metadata": {},
   "outputs": [],
   "source": [
    "num_snapshots = 6\n",
    "dir_u = load_U(dir_svd_file)[:, :num_modes_to_visualise+1]\n",
    "dir_u_reconst = reconstruct_U(Q_file, dir_svd_file, num_s_vals=num_modes_to_visualise)\n",
    "fjlt_u_reconst = reconstruct_U(Q_file, fjlt_svd_file.format(num_snapshots), num_s_vals=num_modes_to_visualise)"
   ]
  },
  {
   "cell_type": "code",
   "execution_count": null,
   "metadata": {},
   "outputs": [],
   "source": [
    "reader = TurboHDF5Reader(Q_file)\n",
    "dir_u_field = reader.reconstruct_field(dir_u)\n",
    "dir_u_reconst_field = reader.reconstruct_field(dir_u_reconst)\n",
    "fjlt_u_reconst_field = reader.reconstruct_field(fjlt_u_reconst)"
   ]
  },
  {
   "attachments": {},
   "cell_type": "markdown",
   "metadata": {},
   "source": [
    "Reconstruct U from the FJLT data"
   ]
  },
  {
   "cell_type": "code",
   "execution_count": null,
   "metadata": {},
   "outputs": [],
   "source": [
    "def visualise_field(ax, field, grid, vmin, vmax, h_pass, plot_offset):\n",
    "    for i in range(3):\n",
    "        for j in [-1, 0, 1]:\n",
    "            ax.pcolormesh(grid[i][:, :, 0], grid[i][:, :, 1]+j*h_pass-plot_offset,\n",
    "                        field[i],\n",
    "                        vmin=vmin, vmax=vmax, shading=\"gouraud\", cmap=\"RdBu_r\", rasterized=True)\n",
    "    return None"
   ]
  },
  {
   "cell_type": "code",
   "execution_count": null,
   "metadata": {},
   "outputs": [],
   "source": [
    "def compare_snapshots(axs, field_A, field_B, turboreader, visualisation_variable, snapshot_index, plot_offset):\n",
    "    field_A = [field_A[snapshot_index][i][:, :, visualisation_variable] for i in range(turboreader.num_regions)]\n",
    "    field_B = [field_B[snapshot_index][i][:, :, visualisation_variable] for i in range(turboreader.num_regions)]\n",
    "\n",
    "    # Multiply by ±1 to get the same field\n",
    "    A_factor = 1 if field_A[0][0, 0] >= 0 else -1\n",
    "    B_factor = 1 if field_B[0][0, 0] >= 0 else -1\n",
    "    field_A = [A_factor*field_A[i] for i in range(turboreader.num_regions)]\n",
    "    field_B = [B_factor*field_B[i] for i in range(turboreader.num_regions)]\n",
    "\n",
    "    # vminA = np.min([np.min(region) for region in field_A])\n",
    "    # vmaxA = np.max([np.max(region) for region in field_A])\n",
    "\n",
    "    vminA = np.min(np.min(field_A[0]))\n",
    "    vmaxA = np.max(np.max(field_A[0]))\n",
    "\n",
    "    vminB = np.min(np.min(field_B[0]))\n",
    "    vmaxB = np.max(np.max(field_B[0]))\n",
    "\n",
    "    vmin = min([vminA, vminB])\n",
    "    vmax = max([vmaxA, vmaxB])\n",
    "    vabs = max([abs(vmin), abs(vmax)])\n",
    "\n",
    "\n",
    "    grid = turboreader.load_grid()\n",
    "\n",
    "    visualise_field(axs[0], field_A, grid, -vabs, vabs, 0.6, plot_offset)\n",
    "    visualise_field(axs[1], field_B, grid, -vabs, vabs, 0.6, plot_offset)\n",
    "\n",
    "    for ax in axs:\n",
    "        ax.set_aspect(\"equal\")\n",
    "\n",
    "    for i in range(2):\n",
    "        axs[i].set_xlabel(r\"$x$\")\n",
    "    axs[0].set_ylabel(r\"$y$\")\n",
    "\n",
    "    axs[0].set_title(\"Direct\")\n",
    "    axs[1].set_title(\"FJLT reconstructed\")\n",
    "\n",
    "    for ax in axs:\n",
    "        ax.axis(\"off\")\n",
    "\n",
    "    return None"
   ]
  },
  {
   "attachments": {},
   "cell_type": "markdown",
   "metadata": {},
   "source": [
    "### Show the mode comparison\n",
    "Currently plotting just the field with normalisation in the upstream region in both cases. \n",
    "Reconstruction from the direct and FJLT data."
   ]
  },
  {
   "cell_type": "code",
   "execution_count": null,
   "metadata": {},
   "outputs": [],
   "source": [
    "plt.style.use(\"../../../mplstyles/paper_full_75pc.mplstyle\")\n",
    "plot_offset = 0.6*3 + 0.3\n",
    "\n",
    "fig, axs = plt.subplots(ncols=2, nrows=1, figsize=(5.18, 2*8), sharey=True)\n",
    "\n",
    "for mode in range(6):\n",
    "    compare_snapshots(axs, dir_u_field, fjlt_u_reconst_field, reader, 0, mode, plot_offset*mode)\n",
    "plt.savefig(\"../figures/svd_u_reconst_pod_modes_num_snaps_{}.pdf\".format(num_snapshots),\n",
    "            bbox_inches=\"tight\", pad_inches=0.1,\n",
    "            facecolor=None, edgecolor='auto', dpi=300\n",
    "            )\n",
    "# del reader\n",
    "# gc.collect()"
   ]
  }
 ],
 "metadata": {
  "kernelspec": {
   "display_name": "base",
   "language": "python",
   "name": "python3"
  },
  "language_info": {
   "codemirror_mode": {
    "name": "ipython",
    "version": 3
   },
   "file_extension": ".py",
   "mimetype": "text/x-python",
   "name": "python",
   "nbconvert_exporter": "python",
   "pygments_lexer": "ipython3",
   "version": "3.12.5"
  }
 },
 "nbformat": 4,
 "nbformat_minor": 2
}
