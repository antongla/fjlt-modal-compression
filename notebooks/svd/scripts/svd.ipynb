{
 "cells": [
  {
   "attachments": {},
   "cell_type": "markdown",
   "metadata": {},
   "source": [
    "# Compute the SVD directly and using FJLT"
   ]
  },
  {
   "cell_type": "code",
   "execution_count": null,
   "metadata": {},
   "outputs": [],
   "source": [
    "from tqdm import tqdm\n",
    "import sys\n",
    "sys.path.append('../../../utils')\n",
    "import gc\n",
    "from TurboFJLT import *\n",
    "from TurboFJLT_helpers import FJLT, TurboHDF5Reader"
   ]
  },
  {
   "cell_type": "code",
   "execution_count": null,
   "metadata": {},
   "outputs": [],
   "source": [
    "datafile = \"../../../data/fine_airfoil_cascade.h5\"\n",
    "reader = TurboHDF5Reader(datafile)\n",
    "print(reader)"
   ]
  },
  {
   "attachments": {},
   "cell_type": "markdown",
   "metadata": {},
   "source": [
    "### Extract the data"
   ]
  },
  {
   "cell_type": "code",
   "execution_count": null,
   "metadata": {},
   "outputs": [],
   "source": [
    "num_snapshots = 500\n",
    "snapshot_sequence = list(range(num_snapshots))"
   ]
  },
  {
   "cell_type": "code",
   "execution_count": null,
   "metadata": {},
   "outputs": [],
   "source": [
    "q_mf = reader.load_meanflow()"
   ]
  },
  {
   "cell_type": "code",
   "execution_count": null,
   "metadata": {},
   "outputs": [],
   "source": [
    "def formQ(reader, seq_to_extract):\n",
    "    num_dofs = reader.state_dim\n",
    "    Q = np.zeros((num_dofs, len(list(seq_to_extract))))\n",
    "    reader.reset_chunked_loading(seq_to_extract, chunks_dim=50)\n",
    "    for i, _ in enumerate(tqdm(seq_to_extract)):\n",
    "        Q[:, i] = reader.load_next()-q_mf\n",
    "    return Q"
   ]
  },
  {
   "cell_type": "code",
   "execution_count": null,
   "metadata": {},
   "outputs": [],
   "source": [
    "Q = formQ(reader, snapshot_sequence)\n",
    "u, s, vh = np.linalg.svd(Q, full_matrices=False)\n",
    "\n",
    "with h5.File(\"../data/direct_svd.h5\", 'w') as f:\n",
    "      f.create_dataset(\"/U\", data=u)\n",
    "      f.create_dataset(\"/s\", data=s)\n",
    "      f.create_dataset(\"/VH\", data=vh)"
   ]
  },
  {
   "cell_type": "code",
   "execution_count": null,
   "metadata": {},
   "outputs": [],
   "source": [
    "# Garbage collection for memory\n",
    "del Q\n",
    "del u\n",
    "del s\n",
    "del vh\n",
    "gc.collect()"
   ]
  },
  {
   "cell_type": "code",
   "execution_count": null,
   "metadata": {},
   "outputs": [],
   "source": [
    "def formB(reader, fjlt, seq_to_extract):\n",
    "    num_dofs = reader.state_dim\n",
    "    B = np.zeros((fjlt.embedding_dim, len(list(seq_to_extract))))\n",
    "    reader.reset_chunked_loading(seq_to_extract, chunks_dim=50)\n",
    "    for i, _ in enumerate(tqdm(seq_to_extract)):\n",
    "        q_ss = reader.load_next()-q_mf\n",
    "        B[:, i] = applyFJLT(q_ss, fjlt.P, fjlt.s, fjlt.D)\n",
    "    return B"
   ]
  },
  {
   "attachments": {},
   "cell_type": "markdown",
   "metadata": {},
   "source": [
    "### Compute the SVD with the FJLT"
   ]
  },
  {
   "cell_type": "code",
   "execution_count": null,
   "metadata": {},
   "outputs": [],
   "source": [
    "def fjlt_svd(reader, num_linking_snapshots, snapshots_to_extract):\n",
    "    fjlt = FJLT(reader.state_dim, num_linking_snapshots, 0.01)\n",
    "    B = formB(reader, fjlt, snapshots_to_extract)\n",
    "    fjlt_u, fjlt_s, fjlt_vh = np.linalg.svd(B, full_matrices=False)\n",
    "    return fjlt_u, fjlt_s, fjlt_vh"
   ]
  },
  {
   "cell_type": "code",
   "execution_count": null,
   "metadata": {},
   "outputs": [],
   "source": [
    "num_linking_snapshots = [2, 4, 6, 8, 12, 16, 24, 32]\n",
    "for n_sp in num_linking_snapshots:\n",
    "    fjlt_u, fjlt_s, fjlt_vh = fjlt_svd(reader, n_sp, snapshot_sequence)\n",
    "    with h5.File(\"../data/fjlt_svd_{}_linking_snapshots.h5\".format(n_sp), 'w') as f:\n",
    "        f.create_dataset(\"/U\", data=fjlt_u)\n",
    "        f.create_dataset(\"/s\", data=fjlt_s)\n",
    "        f.create_dataset(\"/VH\", data=fjlt_vh)\n",
    "    # Garbage collection for memory\n",
    "    del fjlt_u\n",
    "    del fjlt_s\n",
    "    del fjlt_vh\n",
    "    gc.collect()"
   ]
  }
 ],
 "metadata": {
  "kernelspec": {
   "display_name": "base",
   "language": "python",
   "name": "python3"
  },
  "language_info": {
   "codemirror_mode": {
    "name": "ipython",
    "version": 3
   },
   "file_extension": ".py",
   "mimetype": "text/x-python",
   "name": "python",
   "nbconvert_exporter": "python",
   "pygments_lexer": "ipython3",
   "version": "3.11.4"
  }
 },
 "nbformat": 4,
 "nbformat_minor": 2
}
