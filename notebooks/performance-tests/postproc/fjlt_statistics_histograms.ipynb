{
 "cells": [
  {
   "cell_type": "markdown",
   "id": "0",
   "metadata": {},
   "source": [
    "# Visualise the histograms of distortion"
   ]
  },
  {
   "cell_type": "code",
   "execution_count": null,
   "id": "1",
   "metadata": {},
   "outputs": [],
   "source": [
    "import h5py as h5\n",
    "import matplotlib.pyplot as plt\n",
    "from matplotlib.ticker import FormatStrFormatter\n",
    "import numpy as np\n",
    "plt.style.use('../../../mplstyles/paper_full.mplstyle')"
   ]
  },
  {
   "cell_type": "code",
   "execution_count": null,
   "id": "2",
   "metadata": {},
   "outputs": [],
   "source": [
    "def plot_distortion_histogram(ax, distortion, bins=500):\n",
    "    ax.axvspan(xmin=1, xmax=max(distortion), edgecolor=(1.0, 1.0, 1.0, 0.99), facecolor=(1.0, 0.0, 0.0, 0.1), hatch='xxxx', zorder=-10)\n",
    "    ax.hist(distortion, bins=bins, histtype='stepfilled', color=\"#3063A6\")\n",
    "    ax.axvline(x = 1, color = 'red', dashes=(3,3,3,3), label = 'axvline - full height')\n",
    "    ax.set_xlim([0, max(distortion)])\n",
    "    perc_failed = len(distortion[distortion>1])/len(distortion)*100\n",
    "    ax.text(1, 400, r\"${:.2f}$%\".format(perc_failed))\n",
    "    ax.set_xlabel(r\"Percentage distortion\")"
   ]
  },
  {
   "cell_type": "code",
   "execution_count": null,
   "id": "3",
   "metadata": {},
   "outputs": [],
   "source": [
    "num_linking_snapshots = [2, 4, 6]\n",
    "fig, axs = plt.subplots(nrows=1, ncols=len(num_linking_snapshots), sharey=True, figsize=(6.9, 2.7))\n",
    "for i, n_sp in enumerate(num_linking_snapshots):\n",
    "    with h5.File(\"../data/distortion_metrics_{}_linking_snapshots.h5\".format(n_sp), 'r') as f:\n",
    "        distortion = f[\"/distortion\"][()]\n",
    "    plot_distortion_histogram(axs[i], distortion)\n",
    "    axs[i].set_title(r\"$N = {}$\".format(n_sp))\n",
    "    axs[i].xaxis.set_major_formatter(FormatStrFormatter('%.2f'))\n",
    "axs[0].set_ylabel(r\"Number of snapshot pairs\")\n",
    "\n",
    "\n",
    "plt.savefig(\"../figures/error_histograms.pdf\",\n",
    "        bbox_inches=\"tight\", pad_inches=0.1,\n",
    "        facecolor=None, edgecolor='auto',\n",
    "       )"
   ]
  },
  {
   "attachments": {},
   "cell_type": "markdown",
   "id": "4",
   "metadata": {},
   "source": [
    "## Look at the distortion as a function of distance"
   ]
  },
  {
   "cell_type": "code",
   "execution_count": null,
   "id": "5",
   "metadata": {},
   "outputs": [],
   "source": [
    "def plot_distortion_vs_distance(ax, distortion, distance):\n",
    "    Z, xedges, yedges = np.histogram2d(distortion, distance, bins=100)\n",
    "    ax.pcolormesh(xedges, yedges, Z.T, rasterized=True)\n",
    "    ax.axvline(x = 1, color = 'red', dashes=(3,3,3,3), label = 'axvline - full height')\n",
    "    ax.set_xlim(0, max(distortion))\n",
    "    ax.set_ylim(0.08, 0.16)\n",
    "    ax.set_xlabel(\"Percentage distortion\")\n",
    "    ax.xaxis.set_major_formatter(FormatStrFormatter('%.2f'))"
   ]
  },
  {
   "cell_type": "code",
   "execution_count": null,
   "id": "6",
   "metadata": {},
   "outputs": [],
   "source": [
    "fig, axs = plt.subplots(nrows=1, ncols=len(num_linking_snapshots), sharey=True, figsize=(6.9, 2.7))\n",
    "for i, n_sp in enumerate(num_linking_snapshots):\n",
    "    with h5.File(\"../data/distortion_metrics_{}_linking_snapshots.h5\".format(n_sp), 'r') as f:\n",
    "        distortion = f[\"/distortion\"][()]\n",
    "        dist_xy = f[\"/dist_xy\"][()]\n",
    "        min_vec_len = f[\"/vec_len\"][()]\n",
    "    plot_distortion_vs_distance(axs[i], distortion, dist_xy/min_vec_len)\n",
    "    axs[i].set_title(r\"$N = {}$\".format(n_sp))\n",
    "axs[0].set_ylabel(r\"$ \\Vert q_i-q_j\\Vert /\\mathrm{min}( \\Vert q_i \\Vert, \\Vert q_j \\Vert)$\")\n",
    "\n",
    "plt.savefig(\"../figures/distortion_distance_diagram.pdf\",\n",
    "        bbox_inches=\"tight\", pad_inches=0.1,\n",
    "        facecolor=None, edgecolor='auto',\n",
    "       )"
   ]
  },
  {
   "attachments": {},
   "cell_type": "markdown",
   "id": "7",
   "metadata": {},
   "source": [
    "## Visualise sample distance distribution"
   ]
  },
  {
   "cell_type": "code",
   "execution_count": null,
   "id": "8",
   "metadata": {},
   "outputs": [],
   "source": [
    "def plot_distance_histogram(ax, dist, bins=500):\n",
    "    ax.hist(dist, bins=bins, histtype='stepfilled')\n",
    "    ax.set_xlim([0, max(dist)])\n",
    "    ax.set_xlabel(r\"$||q_i-q_j||/min(||q_i||, ||q_j||)$\")"
   ]
  },
  {
   "cell_type": "code",
   "execution_count": null,
   "id": "9",
   "metadata": {},
   "outputs": [],
   "source": [
    "num_linking_snapshots = [2, 4, 6]\n",
    "fig, axs = plt.subplots(nrows=1, ncols=len(num_linking_snapshots), sharey=True, figsize=(6.9, 2.7))\n",
    "for i, n_sp in enumerate(num_linking_snapshots):\n",
    "    with h5.File(\"../data/distortion_metrics_{}_linking_snapshots.h5\".format(n_sp), 'r') as f:\n",
    "        dist_xy = f[\"/dist_xy\"][()]\n",
    "        min_vec_len = f[\"/vec_len\"][()]\n",
    "    plot_distance_histogram(axs[i], dist_xy/min_vec_len)\n",
    "    axs[i].set_title(r\"$N = {}$\".format(n_sp))\n",
    "axs[0].set_ylabel(r\"Number of snapshot pairs\")"
   ]
  }
 ],
 "metadata": {
  "kernelspec": {
   "display_name": "Python 3 (ipykernel)",
   "language": "python",
   "name": "python3"
  },
  "language_info": {
   "codemirror_mode": {
    "name": "ipython",
    "version": 3
   },
   "file_extension": ".py",
   "mimetype": "text/x-python",
   "name": "python",
   "nbconvert_exporter": "python",
   "pygments_lexer": "ipython3",
   "version": "3.12.5"
  }
 },
 "nbformat": 4,
 "nbformat_minor": 5
}
