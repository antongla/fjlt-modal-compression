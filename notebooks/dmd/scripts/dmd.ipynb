{
 "cells": [
  {
   "attachments": {},
   "cell_type": "markdown",
   "metadata": {},
   "source": [
    "# Compute the DMD directly and using FJLT"
   ]
  },
  {
   "cell_type": "code",
   "execution_count": null,
   "metadata": {},
   "outputs": [],
   "source": [
    "from tqdm import tqdm\n",
    "import sys\n",
    "import gc\n",
    "sys.path.append('../../../utils')\n",
    "from TurboFJLT import *\n",
    "from TurboFJLT_helpers import FJLT, TurboHDF5Reader\n",
    "%config InlineBackend.figure_format='retina'"
   ]
  },
  {
   "cell_type": "code",
   "execution_count": null,
   "metadata": {},
   "outputs": [],
   "source": [
    "datafile = \"../../../data/fine_airfoil_cascade.h5\"\n",
    "reader = TurboHDF5Reader(datafile)\n",
    "print(reader)"
   ]
  },
  {
   "attachments": {},
   "cell_type": "markdown",
   "metadata": {},
   "source": [
    "### Extract the data"
   ]
  },
  {
   "cell_type": "code",
   "execution_count": null,
   "metadata": {},
   "outputs": [],
   "source": [
    "num_snapshots = 300\n",
    "snapshot_sequence = list(range(num_snapshots))"
   ]
  },
  {
   "cell_type": "code",
   "execution_count": null,
   "metadata": {},
   "outputs": [],
   "source": [
    "def extract_dmd(dmd_result):\n",
    "    num_non_zero_amps = np.count_nonzero(dmd_result.amplitudes)\n",
    "    print(\"Non-zero amplitudes: \", num_non_zero_amps)\n",
    "    amps = np.zeros(num_non_zero_amps, dtype=\"complex128\")\n",
    "    eigs = np.zeros(num_non_zero_amps, dtype=\"complex128\")\n",
    "    modes = np.zeros((dmd_result.modes.shape[0], eigs.shape[0]), dtype=\"complex128\")\n",
    "    count = 0\n",
    "    for eig, amp, mode in zip(dmd_result.eigs, dmd_result.amplitudes, dmd_result.modes.T):\n",
    "        if np.abs(amp) != 0:\n",
    "            amps[count] = amp\n",
    "            eigs[count] = eig\n",
    "            modes[:, count] = mode.T\n",
    "            count += 1\n",
    "    return amps, eigs, modes"
   ]
  },
  {
   "cell_type": "code",
   "execution_count": null,
   "metadata": {},
   "outputs": [],
   "source": [
    "def formQ(reader, seq_to_extract):\n",
    "    q_mf = reader.load_meanflow()\n",
    "    num_dofs = reader.state_dim\n",
    "    Q = np.zeros((num_dofs, len(list(seq_to_extract))))\n",
    "    reader.reset_chunked_loading(seq_to_extract, chunks_dim=50)\n",
    "    for i, _ in enumerate(tqdm(seq_to_extract)):\n",
    "        Q[:, i] = reader.load_next()-q_mf\n",
    "    return Q"
   ]
  },
  {
   "cell_type": "code",
   "execution_count": null,
   "metadata": {},
   "outputs": [],
   "source": [
    "def extract_DMD(Q, gamma=600):\n",
    "    dmd_sol = SpDMD(svd_rank=50,gamma=gamma,rho=1.e4).fit(Q)\n",
    "    return dmd_sol"
   ]
  },
  {
   "cell_type": "code",
   "execution_count": null,
   "metadata": {},
   "outputs": [],
   "source": [
    "Q = formQ(reader, snapshot_sequence)\n",
    "dmd_Q = extract_DMD(Q)\n",
    "del Q\n",
    "gc.collect()\n",
    "\n",
    "amps, eigs, modes = extract_dmd(dmd_Q)\n",
    "with h5.File(\"../data/direct_dmd.h5\", 'w') as f:\n",
    "    f.create_dataset(\"/amps\", data=amps)\n",
    "    f.create_dataset(\"/eigs\", data=eigs)\n",
    "    f.create_dataset(\"/modes\", data=modes)\n",
    "    # Garbage collection for memory\n",
    "    del amps\n",
    "    del eigs\n",
    "    del modes\n",
    "    gc.collect()"
   ]
  },
  {
   "cell_type": "code",
   "execution_count": null,
   "metadata": {},
   "outputs": [],
   "source": [
    "def formB(reader, fjlt, seq_to_extract):\n",
    "    q_mf = reader.load_meanflow()\n",
    "    B = np.zeros((fjlt.embedding_dim, len(list(seq_to_extract))))\n",
    "    reader.reset_chunked_loading(seq_to_extract, chunks_dim=50)\n",
    "    for i, _ in enumerate(tqdm(seq_to_extract)):\n",
    "        q_ss = reader.load_next()-q_mf\n",
    "        B[:, i] = applyFJLT(q_ss, fjlt.P, fjlt.s, fjlt.D)\n",
    "    return B"
   ]
  },
  {
   "cell_type": "code",
   "execution_count": null,
   "metadata": {},
   "outputs": [],
   "source": [
    "def fjlt_dmd(reader, num_linking_snapshots, snapshots_to_extract):\n",
    "    fjlt = FJLT(reader.state_dim, num_linking_snapshots, 0.01)\n",
    "    B = formB(reader, fjlt, snapshots_to_extract)\n",
    "    dmd_B = extract_DMD(B)\n",
    "    del B\n",
    "    gc.collect()\n",
    "    return dmd_B"
   ]
  },
  {
   "cell_type": "code",
   "execution_count": null,
   "metadata": {},
   "outputs": [],
   "source": [
    "num_linking_snapshots = [2, 4, 6, 8, 12, 16, 24, 32]\n",
    "for n_sp in num_linking_snapshots:\n",
    "    dmd_B = fjlt_dmd(reader, n_sp, snapshot_sequence)\n",
    "    amps, eigs, modes = extract_dmd(dmd_B)\n",
    "\n",
    "    with h5.File(\"../data/fjlt_dmd_{}_linking_snapshots.h5\".format(n_sp), 'w') as f:\n",
    "        f.create_dataset(\"/amps\", data=amps)\n",
    "        f.create_dataset(\"/eigs\", data=eigs)\n",
    "        f.create_dataset(\"/modes\", data=modes)\n",
    "        # Garbage collection for memory\n",
    "        del amps\n",
    "        del eigs\n",
    "        del modes\n",
    "        gc.collect()"
   ]
  }
 ],
 "metadata": {
  "kernelspec": {
   "display_name": "base",
   "language": "python",
   "name": "python3"
  },
  "language_info": {
   "codemirror_mode": {
    "name": "ipython",
    "version": 3
   },
   "file_extension": ".py",
   "mimetype": "text/x-python",
   "name": "python",
   "nbconvert_exporter": "python",
   "pygments_lexer": "ipython3",
   "version": "3.12.5"
  }
 },
 "nbformat": 4,
 "nbformat_minor": 2
}
