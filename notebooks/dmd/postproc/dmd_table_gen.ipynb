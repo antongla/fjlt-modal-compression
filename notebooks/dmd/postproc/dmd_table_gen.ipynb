{
 "cells": [
  {
   "attachments": {},
   "cell_type": "markdown",
   "metadata": {},
   "source": [
    "# Generate tables and other tabular data for DMD FJLT"
   ]
  },
  {
   "cell_type": "code",
   "execution_count": null,
   "metadata": {},
   "outputs": [],
   "source": [
    "import matplotlib as mpl\n",
    "from matplotlib.ticker import MaxNLocator\n",
    "import scipy.signal as sig\n",
    "import numpy as np\n",
    "from tqdm import tqdm\n",
    "import sys\n",
    "sys.path.append('../../../utils')\n",
    "import gc\n",
    "from TurboFJLT import *\n",
    "from InstantFrequency import inst_freq\n",
    "from TurboFJLT_helpers import FJLT, TurboHDF5Reader, TurboVisual"
   ]
  },
  {
   "cell_type": "code",
   "execution_count": null,
   "metadata": {},
   "outputs": [],
   "source": [
    "%config InlineBackend.figure_format='retina'\n"
   ]
  },
  {
   "cell_type": "code",
   "execution_count": null,
   "metadata": {},
   "outputs": [],
   "source": [
    "def jfm_table(headings, data_arr):\n",
    "    assert len(headings) == data_arr.shape[1]\n",
    "    num_cols = len(headings)\n",
    "\n",
    "    # Convert the data into the correct form\n",
    "    head_str = \" & \".join(map(str, headings)) + \" \\\\\\\\\"\n",
    "    arr_str = \" \\\\\\\\\\n\".join([\" & \".join(map(str, row)) for row in data_arr])\n",
    "\n",
    "    table_structure = (\n",
    "        r\"\\begin{table}\",\n",
    "        r\"\\begin{center}\",\n",
    "        r\"\\def~{\\hphantom{0}}\",\n",
    "        r\"\\begin{tabular}\" + \"{{{}}}\".format(\"r\" + \"r\"*(num_cols-1)),\n",
    "        \"{}\".format(head_str),\n",
    "        \"{}\".format(arr_str),\n",
    "        r\"\\end{tabular}\",\n",
    "        r\"\\caption{EMPTY CAPTION}\",\n",
    "        r\"\\label{tab:empty_label}\",\n",
    "        r\"\\end{center}\",\n",
    "        r\"\\end{table}\")\n",
    "\n",
    "    for elem in table_structure:\n",
    "        print(elem)"
   ]
  },
  {
   "cell_type": "code",
   "execution_count": null,
   "metadata": {},
   "outputs": [],
   "source": [
    "def fjlt_helper(reader, num_linking_snapshots):\n",
    "    fjlt = FJLT(reader.state_dim, num_linking_snapshots, max_distortion=0.01)\n",
    "    compression_rel_state = reader.state_dim/fjlt.embedding_dim\n",
    "    compression_rel_hankel = reader.state_dim*fjlt.snapshots_dim/fjlt.embedding_dim\n",
    "\n",
    "    table_row = [\n",
    "        \"${:2d}$\".format(fjlt.snapshots_dim),\n",
    "        \"${:7,d}$\".format(fjlt.embedding_dim).replace(',', '\\,'),\n",
    "        \"${:4.1f}$\".format(compression_rel_state),\n",
    "        \"${:5.1f}$\".format(compression_rel_hankel)\n",
    "    ]\n",
    "\n",
    "    headings = [\n",
    "        r\"$n_{sp}$\",\n",
    "        r\"$k$\",\n",
    "        r\"$n_{dof}/{k}$\",\n",
    "        r\"$n_{dof}n_{sp}/{k}$\"\n",
    "    ]\n",
    "\n",
    "    return table_row, headings"
   ]
  },
  {
   "cell_type": "code",
   "execution_count": null,
   "metadata": {},
   "outputs": [],
   "source": [
    "datafile = \"../../../data/fine_airfoil_cascade.h5\"\n",
    "reader = TurboHDF5Reader(datafile)\n",
    "print(reader)"
   ]
  },
  {
   "cell_type": "code",
   "execution_count": null,
   "metadata": {},
   "outputs": [],
   "source": [
    "num_linking_snapshots = [2, 4, 6, 8, 12, 16, 24, 32]\n",
    "table = []\n",
    "for n_sp in num_linking_snapshots:\n",
    "    table_row, headings = fjlt_helper(reader, n_sp)\n",
    "    table.append(table_row)\n",
    "\n",
    "table = np.array(table)\n",
    "\n",
    "print(headings)\n",
    "print(table)"
   ]
  },
  {
   "cell_type": "code",
   "execution_count": null,
   "metadata": {},
   "outputs": [],
   "source": [
    "jfm_table(headings,table)"
   ]
  }
 ],
 "metadata": {
  "kernelspec": {
   "display_name": "base",
   "language": "python",
   "name": "python3"
  },
  "language_info": {
   "codemirror_mode": {
    "name": "ipython",
    "version": 3
   },
   "file_extension": ".py",
   "mimetype": "text/x-python",
   "name": "python",
   "nbconvert_exporter": "python",
   "pygments_lexer": "ipython3",
   "version": "3.12.5"
  }
 },
 "nbformat": 4,
 "nbformat_minor": 2
}
