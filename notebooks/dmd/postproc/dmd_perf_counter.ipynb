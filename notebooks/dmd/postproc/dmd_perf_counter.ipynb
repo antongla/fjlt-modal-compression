{
 "cells": [
  {
   "attachments": {},
   "cell_type": "markdown",
   "metadata": {},
   "source": [
    "# Perf counters for DMD applied directly and using FJLT"
   ]
  },
  {
   "cell_type": "code",
   "execution_count": null,
   "metadata": {},
   "outputs": [],
   "source": [
    "from tqdm import tqdm\n",
    "import sys\n",
    "import gc\n",
    "import matplotlib.pyplot as plt\n",
    "from time import perf_counter\n",
    "sys.path.append('../../../utils')\n",
    "from TurboFJLT import *\n",
    "from TurboFJLT_helpers import FJLT, TurboHDF5Reader\n",
    "%config InlineBackend.figure_format='retina'"
   ]
  },
  {
   "cell_type": "code",
   "execution_count": null,
   "metadata": {},
   "outputs": [],
   "source": [
    "%config InlineBackend.figure_format='retina'\n",
    "plt.style.use(\"../../../mplstyles/paper_half.mplstyle\")"
   ]
  },
  {
   "cell_type": "code",
   "execution_count": null,
   "metadata": {},
   "outputs": [],
   "source": [
    "timing_averaging_iterations = 5"
   ]
  },
  {
   "cell_type": "code",
   "execution_count": null,
   "metadata": {},
   "outputs": [],
   "source": [
    "datafile = \"../../../data/fine_airfoil_cascade.h5\"\n",
    "reader = TurboHDF5Reader(datafile)\n",
    "print(reader)"
   ]
  },
  {
   "attachments": {},
   "cell_type": "markdown",
   "metadata": {},
   "source": [
    "### Extract the data"
   ]
  },
  {
   "cell_type": "code",
   "execution_count": null,
   "metadata": {},
   "outputs": [],
   "source": [
    "num_snapshots = 300\n",
    "snapshot_sequence = list(range(num_snapshots))"
   ]
  },
  {
   "cell_type": "code",
   "execution_count": null,
   "metadata": {},
   "outputs": [],
   "source": [
    "def extract_dmd_result(dmd_result):\n",
    "    num_non_zero_amps = np.count_nonzero(dmd_result.amplitudes)\n",
    "    print(\"Non-zero amplitudes: \", num_non_zero_amps)\n",
    "    amps = np.zeros(num_non_zero_amps, dtype=\"complex128\")\n",
    "    eigs = np.zeros(num_non_zero_amps, dtype=\"complex128\")\n",
    "    modes = np.zeros((dmd_result.modes.shape[0], eigs.shape[0]), dtype=\"complex128\")\n",
    "    count = 0\n",
    "    for eig, amp, mode in zip(dmd_result.eigs, dmd_result.amplitudes, dmd_result.modes.T):\n",
    "        if np.abs(amp) != 0:\n",
    "            amps[count] = amp\n",
    "            eigs[count] = eig\n",
    "            modes[:, count] = mode.T\n",
    "            count += 1\n",
    "    return amps, eigs, modes"
   ]
  },
  {
   "cell_type": "code",
   "execution_count": null,
   "metadata": {},
   "outputs": [],
   "source": [
    "def formQ(reader, seq_to_extract):\n",
    "    q_mf = reader.load_meanflow()\n",
    "    num_dofs = reader.state_dim\n",
    "    Q = np.zeros((num_dofs, len(list(seq_to_extract))))\n",
    "    reader.reset_chunked_loading(seq_to_extract, chunks_dim=50)\n",
    "    for i, _ in enumerate(tqdm(seq_to_extract)):\n",
    "        Q[:, i] = reader.load_next()-q_mf\n",
    "    return Q"
   ]
  },
  {
   "cell_type": "code",
   "execution_count": null,
   "metadata": {},
   "outputs": [],
   "source": [
    "def extract_DMD(Q, gamma=600):\n",
    "    t0 = perf_counter()\n",
    "    dmd_sol = SpDMD(svd_rank=50,gamma=gamma,rho=1.e4).fit(Q)\n",
    "    t1 = perf_counter()\n",
    "    dt = t1 - t0\n",
    "    return dmd_sol, dt"
   ]
  },
  {
   "cell_type": "code",
   "execution_count": null,
   "metadata": {},
   "outputs": [],
   "source": [
    "Q = formQ(reader, snapshot_sequence)\n",
    "dt_direct = 0\n",
    "for _ in range(timing_averaging_iterations):\n",
    "    dmd_Q, dt = extract_DMD(Q)\n",
    "    dt_direct += dt\n",
    "dt_direct /= timing_averaging_iterations\n",
    "print(\"Direct SpDMD application time: {}s\".format(dt_direct))\n",
    "del Q\n",
    "gc.collect()\n",
    "\n",
    "amps, eigs, modes = extract_dmd_result(dmd_Q)"
   ]
  },
  {
   "cell_type": "code",
   "execution_count": null,
   "metadata": {},
   "outputs": [],
   "source": [
    "def formB(reader, fjlt, seq_to_extract):\n",
    "    q_mf = reader.load_meanflow()\n",
    "    B = np.zeros((fjlt.embedding_dim, len(list(seq_to_extract))))\n",
    "    reader.reset_chunked_loading(seq_to_extract, chunks_dim=50)\n",
    "    for i, _ in enumerate(tqdm(seq_to_extract)):\n",
    "        q_ss = reader.load_next()-q_mf\n",
    "        B[:, i] = applyFJLT(q_ss, fjlt.P, fjlt.s, fjlt.D)\n",
    "    return B"
   ]
  },
  {
   "cell_type": "code",
   "execution_count": null,
   "metadata": {},
   "outputs": [],
   "source": [
    "def fjlt_dmd(reader, num_linking_snapshots, snapshots_to_extract):\n",
    "    fjlt = FJLT(reader.state_dim, num_linking_snapshots, 0.01)\n",
    "    B = formB(reader, fjlt, snapshots_to_extract)\n",
    "    dt_fjlt = 0\n",
    "    for _ in range(timing_averaging_iterations):\n",
    "        dmd_B, dt = extract_DMD(B)\n",
    "        dt_fjlt += dt\n",
    "    dt_fjlt /= timing_averaging_iterations\n",
    "    del B\n",
    "    gc.collect()\n",
    "    return dmd_B, dt_fjlt"
   ]
  },
  {
   "cell_type": "code",
   "execution_count": null,
   "metadata": {},
   "outputs": [],
   "source": [
    "num_linking_snapshots = [2, 4, 6, 8, 12, 16, 24, 32]\n",
    "perf_counters = []\n",
    "\n",
    "for n_sp in num_linking_snapshots:\n",
    "    dmd_B, dt_fjlt = fjlt_dmd(reader, n_sp, snapshot_sequence)\n",
    "    perf_counters.append(dt_fjlt)\n",
    "    print(\"FJLT ({}, snapshots) SpDMD application time: {}s\".format(n_sp, dt_fjlt))\n",
    "\n",
    "    amps, eigs, modes = extract_dmd_result(dmd_B)\n",
    "\n",
    "    # Garbage collection for memory\n",
    "    del amps\n",
    "    del eigs\n",
    "    del modes\n",
    "    gc.collect()"
   ]
  },
  {
   "cell_type": "markdown",
   "metadata": {},
   "source": [
    "### Plot the timing results"
   ]
  },
  {
   "cell_type": "code",
   "execution_count": null,
   "metadata": {},
   "outputs": [],
   "source": [
    "fig, ax = plt.subplots(ncols=1, nrows=1)\n",
    "ax.plot(num_linking_snapshots, perf_counters, marker='o')\n",
    "ax.set_xlabel(r\"N\")\n",
    "ax.set_ylabel(r\"Time (s)\")"
   ]
  },
  {
   "cell_type": "code",
   "execution_count": null,
   "metadata": {},
   "outputs": [],
   "source": [
    "print(num_linking_snapshots)\n",
    "print(perf_counters)"
   ]
  }
 ],
 "metadata": {
  "kernelspec": {
   "display_name": "base",
   "language": "python",
   "name": "python3"
  },
  "language_info": {
   "codemirror_mode": {
    "name": "ipython",
    "version": 3
   },
   "file_extension": ".py",
   "mimetype": "text/x-python",
   "name": "python",
   "nbconvert_exporter": "python",
   "pygments_lexer": "ipython3",
   "version": "3.12.5"
  }
 },
 "nbformat": 4,
 "nbformat_minor": 2
}
