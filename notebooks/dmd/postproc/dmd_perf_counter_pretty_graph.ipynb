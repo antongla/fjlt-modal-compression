{
 "cells": [
  {
   "cell_type": "code",
   "execution_count": null,
   "metadata": {},
   "outputs": [],
   "source": [
    "import matplotlib.pyplot as plt\n",
    "import numpy as np\n",
    "import matplotlib.collections as mcoll\n",
    "import matplotlib.path as mpath"
   ]
  },
  {
   "cell_type": "code",
   "execution_count": null,
   "metadata": {},
   "outputs": [],
   "source": [
    "%config InlineBackend.figure_format='retina'\n",
    "plt.style.use(\"../../../mplstyles/paper_half.mplstyle\")"
   ]
  },
  {
   "cell_type": "code",
   "execution_count": null,
   "metadata": {},
   "outputs": [],
   "source": [
    "num_linking_snapshots = [2, 4, 6, 8, 12, 16, 24, 32]\n",
    "timing_dmd = [2.977385233598761, 5.091184241400333, 6.7984917080029845, 7.410554508399218, 8.095092724799178, 8.899382191395853, 11.110102650208864, 11.947844975010957]"
   ]
  },
  {
   "cell_type": "code",
   "execution_count": null,
   "metadata": {},
   "outputs": [],
   "source": [
    "# Implementation for the plotting comes from here: https://stackoverflow.com/questions/8500700/how-to-plot-a-gradient-color-line\n",
    "def make_segments(x, y):\n",
    "    \"\"\"\n",
    "    Create list of line segments from x and y coordinates, in the correct format\n",
    "    for LineCollection: an array of the form numlines x (points per line) x 2 (x\n",
    "    and y) array\n",
    "    \"\"\"\n",
    "\n",
    "    points = np.array([x, y]).T.reshape(-1, 1, 2)\n",
    "    segments = np.concatenate([points[:-1], points[1:]], axis=1)\n",
    "    return segments\n",
    "\n",
    "\n",
    "def colorline(ax,\n",
    "    x, y, z=None, cmap=plt.get_cmap('copper'), norm=plt.Normalize(0.0, 1.0),\n",
    "        linewidth=3, alpha=1.0):\n",
    "    \"\"\"\n",
    "    http://nbviewer.ipython.org/github/dpsanders/matplotlib-examples/blob/master/colorline.ipynb\n",
    "    http://matplotlib.org/examples/pylab_examples/multicolored_line.html\n",
    "    Plot a colored line with coordinates x and y\n",
    "    Optionally specify colors in the array z\n",
    "    Optionally specify a colormap, a norm function and a line width\n",
    "    \"\"\"\n",
    "\n",
    "    # Default colors equally spaced on [0,1]:\n",
    "    if z is None:\n",
    "        z = np.linspace(0.0, 1.0, len(x))\n",
    "\n",
    "    # Special case if a single number:\n",
    "    if not hasattr(z, \"__iter__\"):  # to check for numerical input -- this is a hack\n",
    "        z = np.array([z])\n",
    "\n",
    "    z = np.asarray(z)\n",
    "\n",
    "    segments = make_segments(x, y)\n",
    "    lc = mcoll.LineCollection(segments, array=z, cmap=cmap, norm=norm,\n",
    "                              linewidth=linewidth, alpha=alpha)\n",
    "\n",
    "    ax.add_collection(lc)\n",
    "\n",
    "    return lc\n",
    "\n",
    "\n",
    "def plot_timing(ax, linkage, timing):\n",
    "    path = mpath.Path(np.column_stack([linkage, timing]))\n",
    "    verts = path.interpolated(steps=1).vertices\n",
    "    x, y = verts[:, 0], verts[:, 1]\n",
    "    z = np.linspace(0.3,1,len(num_linking_snapshots))\n",
    "    colors = plt.cm.Blues(z)\n",
    "\n",
    "    colorline(ax, x, y, z, cmap=plt.get_cmap('Blues'), linewidth=2)\n",
    "    ax.scatter(x, y, c=colors, zorder=3)\n",
    "\n",
    "    ax.set_xlabel(r\"$N$\")\n",
    "    ax.set_ylabel(\"SpDMD application timing (s)\")\n"
   ]
  },
  {
   "cell_type": "code",
   "execution_count": null,
   "metadata": {},
   "outputs": [],
   "source": [
    "fig, ax = plt.subplots(ncols=1, nrows=1)\n",
    "plot_timing(ax, num_linking_snapshots, timing_dmd)\n",
    "ax.set_xlim([0, 33])\n",
    "ax.set_ylim([0, 13])\n",
    "plt.savefig(\"../figures/dmd_perf_counter.pdf\",\n",
    "                bbox_inches=\"tight\", pad_inches=0.1,\n",
    "                facecolor=None, edgecolor='auto'\n",
    "                )"
   ]
  }
 ],
 "metadata": {
  "kernelspec": {
   "display_name": "base",
   "language": "python",
   "name": "python3"
  },
  "language_info": {
   "codemirror_mode": {
    "name": "ipython",
    "version": 3
   },
   "file_extension": ".py",
   "mimetype": "text/x-python",
   "name": "python",
   "nbconvert_exporter": "python",
   "pygments_lexer": "ipython3",
   "version": "3.12.5"
  }
 },
 "nbformat": 4,
 "nbformat_minor": 2
}
