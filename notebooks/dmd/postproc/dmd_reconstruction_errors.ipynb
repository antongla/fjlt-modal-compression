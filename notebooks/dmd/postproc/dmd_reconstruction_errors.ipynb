{
 "cells": [
  {
   "attachments": {},
   "cell_type": "markdown",
   "metadata": {},
   "source": [
    "# Evaluate the FJLT reconstruction errors in DMD"
   ]
  },
  {
   "cell_type": "code",
   "execution_count": null,
   "metadata": {},
   "outputs": [],
   "source": [
    "import matplotlib as mpl\n",
    "from matplotlib.ticker import MaxNLocator\n",
    "import scipy.signal as sig\n",
    "from tqdm import tqdm\n",
    "import sys\n",
    "sys.path.append('../../../utils')\n",
    "import gc\n",
    "from TurboFJLT import *\n",
    "from InstantFrequency import inst_freq\n",
    "from TurboFJLT_helpers import TurboHDF5Reader, TurboVisual"
   ]
  },
  {
   "cell_type": "code",
   "execution_count": null,
   "metadata": {},
   "outputs": [],
   "source": [
    "%config InlineBackend.figure_format='retina'\n",
    "cmap_b = mpl.colormaps['Blues']\n",
    "cmap_r = mpl.colormaps['Reds']\n",
    "blue = cmap_b(0.7)\n",
    "red = 'r'\n",
    "green = 'g'\n",
    "\n",
    "# Synchronise this with dmd.ipynb\n",
    "e = 0.01\n",
    "modes_to_show = 20\n",
    "num_snapshots = 300\n",
    "snapshot_sequence = list(range(num_snapshots))"
   ]
  },
  {
   "cell_type": "code",
   "execution_count": null,
   "metadata": {},
   "outputs": [],
   "source": [
    "Q_file = \"../../../data/fine_airfoil_cascade.h5\"\n",
    "dir_dmd_file = \"../data/direct_dmd.h5\"\n",
    "fjlt_dmd_file = \"../data/fjlt_dmd_{}_linking_snapshots.h5\""
   ]
  },
  {
   "cell_type": "code",
   "execution_count": null,
   "metadata": {},
   "outputs": [],
   "source": [
    "reader = TurboHDF5Reader(Q_file)\n",
    "print(reader)"
   ]
  },
  {
   "cell_type": "code",
   "execution_count": null,
   "metadata": {},
   "outputs": [],
   "source": [
    "with h5.File(dir_dmd_file, 'r') as f:\n",
    "    dir_amps = f[\"/amps\"][()]\n",
    "dir_ordering = np.argsort(np.abs(dir_amps))[::-1]\n",
    "dir_amps = dir_amps[dir_ordering]"
   ]
  },
  {
   "attachments": {},
   "cell_type": "markdown",
   "metadata": {},
   "source": [
    "### Plot eigenvalues and amplitudes for varying numbers of linking snapshots\n",
    "The eigenvalues and amplitudes are ordered by descending amplitude"
   ]
  },
  {
   "cell_type": "code",
   "execution_count": null,
   "metadata": {},
   "outputs": [],
   "source": [
    "plt.style.use(\"../../../mplstyles/paper_full.mplstyle\")"
   ]
  },
  {
   "cell_type": "code",
   "execution_count": null,
   "metadata": {},
   "outputs": [],
   "source": [
    "def plot_dmd_amplitudes(ax, a, a_f, label, index_a=None, index_a_f=None):\n",
    "    index_a = np.arange(len(a)) if index_a is None else index_a\n",
    "    index_a_f = np.arange(len(a_f)) if index_a_f is None else index_a_f\n",
    "    ax.plot(index_a, a, color=blue, marker=\"o\", label=\"Direct\")\n",
    "    ax.plot(index_a_f, a_f, color=red, marker=\"x\", label=\"FJLT $N={}$\".format(label))\n",
    "    ax.set_xlim([0, max([len(a), len(a_f)])])\n",
    "    ax.set_ylim([0, None])\n",
    "    # ax.set_xlabel(r\"Mode index (sorted by descending mode amplitude)\")\n",
    "    # ax.set_ylabel(r\"$|a|$\")\n",
    "    ax.legend()\n",
    "    return None"
   ]
  },
  {
   "cell_type": "code",
   "execution_count": null,
   "metadata": {},
   "outputs": [],
   "source": [
    "num_linking_snapshots = [2, 4, 6, 8, 12, 16, 24, 32]\n",
    "fig, axs = plt.subplots(ncols=2, nrows=4, sharex=True, sharey=True, figsize=(6.9, 3.5))\n",
    "for n_sp, ax in zip(num_linking_snapshots, axs.flatten()):\n",
    "    with h5.File(fjlt_dmd_file.format(n_sp), 'r') as f:\n",
    "        fjlt_amps = f[\"/amps\"][()]\n",
    "        fjlt_ordering = np.argsort(np.abs(fjlt_amps))[::-1]\n",
    "        fjlt_amps = fjlt_amps[fjlt_ordering]\n",
    "        plot_dmd_amplitudes(ax,\n",
    "                            np.abs(dir_amps),\n",
    "                            np.abs(fjlt_amps),\n",
    "                            label=n_sp)\n",
    "    if np.any(ax==axs[:, 0]):\n",
    "        ax.set_ylabel(r\"$|a|$\")\n",
    "    if np.any(ax==axs[-1, :]):\n",
    "        ax.set_xlabel(r\"Mode index (sorted by descending mode amplitude)\")\n",
    "plt.savefig(\"../figures/dmd_amplitudes_all.pdf\".format(n_sp),\n",
    "            bbox_inches=\"tight\", pad_inches=0.1,\n",
    "            facecolor=None, edgecolor='auto'\n",
    "            )"
   ]
  },
  {
   "cell_type": "code",
   "execution_count": null,
   "metadata": {},
   "outputs": [],
   "source": [
    "plt.style.use(\"../../../mplstyles/paper_full_75pc.mplstyle\")"
   ]
  },
  {
   "cell_type": "code",
   "execution_count": null,
   "metadata": {},
   "outputs": [],
   "source": [
    "def plot_dmd_eigenvalues(eigs, eigs_f):\n",
    "    circle = np.exp(1j*np.linspace(0, 2*np.pi, 200))\n",
    "\n",
    "    fig, axs = plt.subplots(ncols=1, nrows=1)\n",
    "    axs.plot(circle.real, circle.imag, color=\"k\", linewidth=1, alpha=0.1)\n",
    "    axs.scatter(eigs.real, eigs.imag, marker=\"o\", color=blue)\n",
    "    axs.scatter(eigs_f.real, eigs_f.imag, marker=\"x\", color=red)\n",
    "\n",
    "    axs.set_xlim(0, 1.1)\n",
    "    axs.set_aspect(\"equal\");\n",
    "    axs.set_xlabel(r\"Re$(\\lambda)$\")\n",
    "    axs.set_xlabel(r\"Im$(\\lambda)$\")\n",
    "    return fig"
   ]
  },
  {
   "cell_type": "code",
   "execution_count": null,
   "metadata": {},
   "outputs": [],
   "source": [
    "with h5.File(dir_dmd_file, 'r') as f:\n",
    "    dir_eigs = f[\"/eigs\"][()]\n",
    "dir_eigs = dir_eigs[dir_ordering]"
   ]
  },
  {
   "cell_type": "code",
   "execution_count": null,
   "metadata": {},
   "outputs": [],
   "source": [
    "def plot_dmd_eigenvalues_on_axis(ax, _eigs, _amps, _eigs_f, offset):\n",
    "    amps = np.abs(_amps)\n",
    "    cm_offset = 0.1\n",
    "    amps_colour_scale = cm_offset + (amps-min(amps))/(max(amps)-min(amps))*(1-cm_offset)\n",
    "    marker_colors = plt.cm.Blues(amps_colour_scale)\n",
    "    edge_color = plt.cm.Blues(1.0)\n",
    "\n",
    "    circle = np.exp(1j*np.linspace(-2*np.pi/5, 2*np.pi/5, 200))\n",
    "\n",
    "    circle += offset\n",
    "    eigs = _eigs + offset\n",
    "    eigs_f = _eigs_f + offset\n",
    "\n",
    "    ax.plot(circle.real, circle.imag, color=\"k\", linewidth=1, alpha=0.2)\n",
    "    ax.scatter(eigs.real, eigs.imag, marker=\"o\", color=marker_colors, edgecolor=edge_color)\n",
    "    ax.scatter(eigs_f.real, eigs_f.imag, marker=\"o\", facecolors='none', edgecolor=red, linewidth=1)\n",
    "\n",
    "    # ax.set_xlim(0, None)\n",
    "    ax.set_aspect(\"equal\");\n",
    "    ax.set_ylim([-1, 1])\n",
    "    ax.set_xlabel(r\"Re$(\\lambda)$\")\n",
    "    ax.set_ylabel(r\"Im$(\\lambda)$\")\n",
    "    ax.tick_params(\n",
    "        axis='x',\n",
    "        which='both',\n",
    "        bottom=False,\n",
    "        top=False,\n",
    "        labelbottom=False)\n"
   ]
  },
  {
   "attachments": {},
   "cell_type": "markdown",
   "metadata": {},
   "source": [
    "Eigenvalues are plotted on the circle $|\\lambda| = 1$. Blue eigenvalues denote those obtained from the DMD of $Q$, while the red are those obtained using the DMD on $B=FJLT(Q)$"
   ]
  },
  {
   "cell_type": "code",
   "execution_count": null,
   "metadata": {},
   "outputs": [],
   "source": [
    "fig, ax = plt.subplots(ncols=1, nrows=1)\n",
    "\n",
    "for i, n_sp in enumerate(num_linking_snapshots):\n",
    "    with h5.File(fjlt_dmd_file.format(n_sp), 'r') as f:\n",
    "        fjlt_amps = f[\"/amps\"][()]\n",
    "        fjlt_eigs = f[\"/eigs\"][()]\n",
    "    fjlt_ordering = np.argsort(np.abs(fjlt_amps))[::-1]\n",
    "    fjlt_eigs = fjlt_eigs[fjlt_ordering]\n",
    "    plot_dmd_eigenvalues_on_axis(ax, dir_eigs, dir_amps,\n",
    "                                      fjlt_eigs, 0.5*i+0j)\n",
    "    plt.savefig(\"../figures/dmd_eigenvalues.pdf\",\n",
    "        bbox_inches=\"tight\", pad_inches=0.1,\n",
    "        facecolor=None, edgecolor='auto',\n",
    "       )\n"
   ]
  },
  {
   "cell_type": "code",
   "execution_count": null,
   "metadata": {},
   "outputs": [],
   "source": [
    "def eigenvalue_error_analysis(eigs, eigs_f):\n",
    "    err_eigs_f = np.zeros_like(eigs_f, dtype=float)\n",
    "    dir_indices = []\n",
    "    for i, eig_f in enumerate(eigs_f):\n",
    "        matching_index = np.argmin(np.abs(eigs-eig_f))\n",
    "        err_eigs_f[i] = np.abs(eigs[matching_index]-eig_f)/np.abs(eigs[matching_index])*100\n",
    "        np.delete(eigs, matching_index)\n",
    "        dir_indices.append(matching_index)\n",
    "    return err_eigs_f, dir_indices"
   ]
  },
  {
   "attachments": {},
   "cell_type": "markdown",
   "metadata": {},
   "source": [
    "As there is no bijective correspondence between the arrays containing $\\lambda_Q$ are $\\lambda_B$, these are first ordered using ``dir_index_to_fjlt_eigenvalue[]``, before the comparison is made"
   ]
  },
  {
   "cell_type": "code",
   "execution_count": null,
   "metadata": {},
   "outputs": [],
   "source": [
    "eigenvalue_errors = [np.zeros(len(dir_eigs), dtype=\"float\") for _ in num_linking_snapshots]\n",
    "direct_indices = [np.zeros(len(dir_eigs), dtype=\"int\") for _ in num_linking_snapshots]\n",
    "dir_index_to_fjlt_eigenvalue = {}\n",
    "for i, n_sp in enumerate(num_linking_snapshots):\n",
    "    with h5.File(fjlt_dmd_file.format(n_sp), 'r') as f:\n",
    "        fjlt_amps = f[\"/amps\"][()]\n",
    "        fjlt_eigs = f[\"/eigs\"][()]\n",
    "    fjlt_ordering = np.argsort(np.abs(fjlt_amps))[::-1]\n",
    "    fjlt_eigs = fjlt_eigs[fjlt_ordering]\n",
    "    fjlt_amps = fjlt_amps[fjlt_ordering]\n",
    "    err, inds = eigenvalue_error_analysis(dir_eigs,\n",
    "                                          fjlt_eigs)\n",
    "    eigenvalue_errors[i][inds] = err\n",
    "    direct_indices[i][inds] = inds\n",
    "    dir_index_to_fjlt_eigenvalue[n_sp] = {ind : (fjlt_eig, fjlt_amp) for ind, fjlt_eig, fjlt_amp in zip(inds, fjlt_eigs, fjlt_amps)}\n",
    "    # Trim the zeros\n",
    "    direct_indices[i] = direct_indices[i][eigenvalue_errors[i]!=0]\n",
    "    eigenvalue_errors[i] = eigenvalue_errors[i][eigenvalue_errors[i]!=0]"
   ]
  },
  {
   "cell_type": "code",
   "execution_count": null,
   "metadata": {},
   "outputs": [],
   "source": [
    "# Repeat the first figure but with correct ordering of the amplitudes to match direct modes\n",
    "fig, axs = plt.subplots(ncols=2, nrows=4, sharex=True, sharey=True, figsize=(6.9, 3.5))\n",
    "for i, (n_sp, ax) in enumerate(zip(num_linking_snapshots, axs.flatten())):\n",
    "    with h5.File(fjlt_dmd_file.format(n_sp), 'r') as f:\n",
    "        fjlt_amps = f[\"/amps\"][()]\n",
    "        fjlt_ordering = np.argsort(np.abs(fjlt_amps))[::-1]\n",
    "        fjlt_amps = fjlt_amps[fjlt_ordering]\n",
    "        plot_dmd_amplitudes(ax,\n",
    "                            np.abs(dir_amps),\n",
    "                            np.abs(fjlt_amps),\n",
    "                            label=n_sp,\n",
    "                            index_a_f=direct_indices[i])\n",
    "    if np.any(ax==axs[:, 0]):\n",
    "        ax.set_ylabel(r\"$|a|$\")\n",
    "    if np.any(ax==axs[-1, :]):\n",
    "        ax.set_xlabel(r\"Mode index (sorted by descending mode amplitude)\")\n",
    "plt.savefig(\"../figures/dmd_amplitudes_all_ordered.pdf\".format(n_sp),\n",
    "            bbox_inches=\"tight\", pad_inches=0.1,\n",
    "            facecolor=None, edgecolor='auto'\n",
    "            )"
   ]
  },
  {
   "cell_type": "code",
   "execution_count": null,
   "metadata": {},
   "outputs": [],
   "source": [
    "plt.style.use(\"../../../mplstyles/paper_half.mplstyle\")\n",
    "colors = plt.cm.Blues(np.linspace(0.3,1,len(num_linking_snapshots)))\n",
    "\n",
    "fig = plt.figure()\n",
    "ax=fig.gca()\n",
    "for i, n_sp in enumerate(num_linking_snapshots):\n",
    "    ax.plot(direct_indices[i], eigenvalue_errors[i], marker=\"o\", color=colors[i], label=r\"${}$\".format(n_sp))\n",
    "\n",
    "ax.set_xlim([0, None])\n",
    "ax.set_ylim([0, 3.0])\n",
    "ax.set_xlabel(\"Mode index (sorted by descending mode amplitude)\")\n",
    "ax.set_ylabel(\"Relative mode error (%)\")\n",
    "ax.legend(ncols=2)\n",
    "ax.xaxis.set_major_locator(MaxNLocator(integer=True))\n",
    "plt.savefig(\"../figures/dmd_eigenvalue_errors.pdf\",\n",
    "        bbox_inches=\"tight\", pad_inches=0.1,\n",
    "        facecolor=None, edgecolor='auto',\n",
    "       )"
   ]
  },
  {
   "attachments": {},
   "cell_type": "markdown",
   "metadata": {},
   "source": [
    "### Reconstruction of mode shape"
   ]
  },
  {
   "attachments": {},
   "cell_type": "markdown",
   "metadata": {},
   "source": [
    "Mode reconstruction is achieved by performing a DFT on the $Q-Q_{mf}$ time-series matrix, which has the meanflow removed from the snapshots. \n",
    "The result is scaled by $1/(N*amplitude)$ to complete the inversion.  \n",
    "The kernel uses discrete freqiencies, by using the casting $k = int(\\omega/\\Delta\\omega)$. However, note that generally $k \\neq \\omega/\\Delta\\omega$, or the continuous case."
   ]
  },
  {
   "cell_type": "code",
   "execution_count": null,
   "metadata": {},
   "outputs": [],
   "source": [
    "def FFT_DMD_reconstruction(Q, mode, amp):\n",
    "\n",
    "    mode = mode/np.abs(mode)\n",
    "    # Parameters\n",
    "    N = Q.shape[1]\n",
    "    dt = 1\n",
    "    domega = 2*np.pi/N/dt\n",
    "    omega = np.imag(np.log(mode))\n",
    "    k = int(omega/domega)\n",
    "\n",
    "    # Extraction of the shape function\n",
    "    ker = np.exp(-2*np.pi*1j*k*np.arange(N)/N).T\n",
    "    sh = Q.dot(ker)\n",
    "\n",
    "    sh /= N * amp\n",
    "\n",
    "    return sh"
   ]
  },
  {
   "attachments": {},
   "cell_type": "markdown",
   "metadata": {},
   "source": [
    "Mode reconstruction is handled by first processing the column vector and then reordering the elements of the vector into the two-dimensional geometry."
   ]
  },
  {
   "cell_type": "code",
   "execution_count": null,
   "metadata": {},
   "outputs": [],
   "source": [
    "def formQ(reader, seq_to_extract):\n",
    "    q_mf = reader.load_meanflow()\n",
    "    Q = reader.load_full(seq_to_extract)\n",
    "    for i in range(Q.shape[1]):\n",
    "        Q[:, i] -= q_mf\n",
    "    return Q"
   ]
  },
  {
   "cell_type": "code",
   "execution_count": null,
   "metadata": {},
   "outputs": [],
   "source": [
    "with h5.File(dir_dmd_file, 'r') as f:\n",
    "    dir_modes = f[\"/modes\"][()]\n",
    "dir_modes = dir_modes[:, dir_ordering]\n",
    "Q = formQ(reader, snapshot_sequence)"
   ]
  },
  {
   "cell_type": "code",
   "execution_count": null,
   "metadata": {},
   "outputs": [],
   "source": [
    "vis_num_linking_snapshots = 6  # Which data series to visualise\n",
    "num_modes_to_plot = 12\n",
    "fjlt_eigenvalue_mapping_dictionary = dir_index_to_fjlt_eigenvalue[vis_num_linking_snapshots]"
   ]
  },
  {
   "cell_type": "code",
   "execution_count": null,
   "metadata": {},
   "outputs": [],
   "source": [
    "dir_modes_reconstructed = np.array([FFT_DMD_reconstruction(Q, eig, amp) for eig, amp in tqdm(zip(dir_eigs[:num_modes_to_plot], dir_amps[:num_modes_to_plot]))]).T"
   ]
  },
  {
   "cell_type": "code",
   "execution_count": null,
   "metadata": {},
   "outputs": [],
   "source": [
    "fjlt_modes_reconstructed = np.array([FFT_DMD_reconstruction(Q, fjlt_eigenvalue_mapping_dictionary[dir_ind][0], fjlt_eigenvalue_mapping_dictionary[dir_ind][1])\n",
    "                                    if dir_ind in fjlt_eigenvalue_mapping_dictionary\n",
    "                                    else None\n",
    "                                    for dir_ind in tqdm(range(num_modes_to_plot))]).T"
   ]
  },
  {
   "cell_type": "code",
   "execution_count": null,
   "metadata": {},
   "outputs": [],
   "source": [
    "del Q\n",
    "gc.collect()"
   ]
  },
  {
   "cell_type": "code",
   "execution_count": null,
   "metadata": {},
   "outputs": [],
   "source": [
    "tv = TurboVisual(reader)\n",
    "dir_mode_vis = reader.reconstruct_field(dir_modes[:, :num_modes_to_plot])\n",
    "dir_mode_reconstructed_vis = reader.reconstruct_field(dir_modes_reconstructed[:, :num_modes_to_plot])\n",
    "fjlt_mode_reconstructed_vis = reader.reconstruct_field(fjlt_modes_reconstructed[:, :num_modes_to_plot])"
   ]
  },
  {
   "cell_type": "code",
   "execution_count": null,
   "metadata": {},
   "outputs": [],
   "source": [
    "# for i, (dir_field, dir_reconstructed_field, fjlt_reconstructed_field) in enumerate(zip(dir_mode_vis, dir_mode_reconstructed_vis, fjlt_mode_reconstructed_vis)):\n",
    "\n",
    "#     fig, axs = plt.subplots(ncols=3, nrows=1, figsize=(6.9/2*3, 2), sharey=True)\n",
    "#     vmin, vmax = tv.plot_field(axs[0], dir_field, 0, plot_type=\"real\", centre_colourmap=True, region=0, cmap=\"RdBu_r\")\n",
    "#     _, _ = tv.plot_field(axs[1], dir_reconstructed_field, 0, plot_type=\"real\", centre_colourmap=True, limits=(vmin, vmax), region=0, cmap=\"RdBu_r\")\n",
    "#     if fjlt_reconstructed_field is not None:\n",
    "#         _, _ = tv.plot_field(axs[2], fjlt_reconstructed_field, 0, plot_type=\"real\", centre_colourmap=True, limits=(vmin, vmax), region=0, cmap=\"RdBu_r\")\n",
    "\n",
    "#     axs[0].set_title(\"Mode from direct DMD\")\n",
    "#     axs[1].set_title(\"Reconst. mode from direct [BAD SCALING-DON'T PUBLISH]\") # Bad scaling because just checking mode shape. Reconstruction needs proper amplitude inversion and scale factors for FFT\n",
    "#     axs[2].set_title(\"Reconst. mode from FJLT [BAD SCALING-DON'T PUBLISH]\")\n",
    "#     # plt.savefig(\"../figures/DO_NOT_PUBLISH_dmd_modes_n_sp_{vis_num_linking_snapshots}_mode_index_{i}.pdf\",\n",
    "#     #     bbox_inches=\"tight\", pad_inches=0.1,\n",
    "#     #     facecolor=None, edgecolor='auto',\n",
    "#     #    )"
   ]
  },
  {
   "cell_type": "markdown",
   "metadata": {},
   "source": [
    "### Compare snapshots on single figure"
   ]
  },
  {
   "cell_type": "code",
   "execution_count": null,
   "metadata": {},
   "outputs": [],
   "source": [
    "def visualise_field(ax, field, grid, vmin, vmax, h_pass, plot_offset):\n",
    "    for i in range(3):\n",
    "        for j in [-1, 0, 1]:\n",
    "            ax.pcolormesh(grid[i][:, :, 0], grid[i][:, :, 1]+j*h_pass-plot_offset,\n",
    "                        field[i],\n",
    "                        vmin=vmin, vmax=vmax, shading=\"gouraud\", cmap=\"RdBu_r\", rasterized=True)\n",
    "    return None"
   ]
  },
  {
   "cell_type": "code",
   "execution_count": null,
   "metadata": {},
   "outputs": [],
   "source": [
    "def compare_snapshots(axs, field_A, field_B, turboreader, visualisation_variable, snapshot_index, plot_offset):\n",
    "    field_A = [field_A[snapshot_index][i][:, :, visualisation_variable].real for i in range(turboreader.num_regions)]\n",
    "    field_B = [field_B[snapshot_index][i][:, :, visualisation_variable].real for i in range(turboreader.num_regions)]\n",
    "\n",
    "    # Multiply by ±1 to get the same field\n",
    "    A_factor = 1 if field_A[0][0, 0] >= 0 else -1\n",
    "    B_factor = 1 if field_B[0][0, 0] >= 0 else -1\n",
    "    field_A = [A_factor*field_A[i] for i in range(turboreader.num_regions)]\n",
    "    field_B = [B_factor*field_B[i] for i in range(turboreader.num_regions)]\n",
    "\n",
    "    # vminA = np.min([np.min(region) for region in field_A])\n",
    "    # vmaxA = np.max([np.max(region) for region in field_A])\n",
    "\n",
    "    vminA = np.min(np.min(field_A[0]))\n",
    "    vmaxA = np.max(np.max(field_A[0]))\n",
    "\n",
    "    vminB = np.min(np.min(field_B[0]))\n",
    "    vmaxB = np.max(np.max(field_B[0]))\n",
    "\n",
    "    vmin = min([vminA, vminB])\n",
    "    vmax = max([vmaxA, vmaxB])\n",
    "    vabs = max([abs(vmin), abs(vmax)])\n",
    "\n",
    "\n",
    "    grid = turboreader.load_grid()\n",
    "\n",
    "    visualise_field(axs[0], field_A, grid, -vabs, vabs, 0.6, plot_offset)\n",
    "    visualise_field(axs[1], field_B, grid, -vabs, vabs, 0.6, plot_offset)\n",
    "\n",
    "    for ax in axs:\n",
    "        ax.set_aspect(\"equal\")\n",
    "\n",
    "    for i in range(2):\n",
    "        axs[i].set_xlabel(r\"$x$\")\n",
    "    axs[0].set_ylabel(r\"$y$\")\n",
    "\n",
    "    axs[0].set_title(\"Direct\")\n",
    "    axs[1].set_title(\"FJLT reconstructed\")\n",
    "\n",
    "    for ax in axs:\n",
    "        ax.axis(\"off\")\n",
    "\n",
    "    return None"
   ]
  },
  {
   "cell_type": "code",
   "execution_count": null,
   "metadata": {},
   "outputs": [],
   "source": [
    "def compare_three_snapshots(axs, field_A, field_B, field_C, turboreader, visualisation_variable, snapshot_index, plot_offset):\n",
    "    field_A = [field_A[snapshot_index][i][:, :, visualisation_variable] for i in range(turboreader.num_regions)]\n",
    "    field_B = [field_B[snapshot_index][i][:, :, visualisation_variable] for i in range(turboreader.num_regions)]\n",
    "    field_C = [field_C[snapshot_index][i][:, :, visualisation_variable] for i in range(turboreader.num_regions)]\n",
    "\n",
    "    # # Multiply by ±1 to get the same field\n",
    "    # A_factor = 1 if field_A[0][0, 0] >= 0 else -1\n",
    "    # B_factor = 1 if field_B[0][0, 0] >= 0 else -1\n",
    "    # C_factor = 1 if field_C[0][0, 0] >= 0 else -1\n",
    "\n",
    "    # Divide out the phase from the field\n",
    "    A_factor = np.exp(-1j*np.angle(field_A[1][0, 0]))\n",
    "    B_factor = np.exp(-1j*np.angle(field_B[1][0, 0]))\n",
    "    C_factor = np.exp(-1j*np.angle(field_C[1][0, 0]))\n",
    "\n",
    "    field_A = [(A_factor*field_A[i]).real for i in range(turboreader.num_regions)]\n",
    "    field_B = [(B_factor*field_B[i]).real for i in range(turboreader.num_regions)]\n",
    "    field_C = [(C_factor*field_C[i]).real for i in range(turboreader.num_regions)]\n",
    "\n",
    "    # vminA = np.min([np.min(region) for region in field_A])\n",
    "    # vmaxA = np.max([np.max(region) for region in field_A])\n",
    "\n",
    "    vminA = np.min(np.min(field_A[0]))\n",
    "    vmaxA = np.max(np.max(field_A[0]))\n",
    "    vabsA = max([abs(vminA), abs(vmaxA)])\n",
    "\n",
    "    vminB = np.min(np.min(field_B[0]))\n",
    "    vmaxB = np.max(np.max(field_B[0]))\n",
    "    vabsB = max([abs(vminB), abs(vmaxB)])\n",
    "\n",
    "    vminC = np.min(np.min(field_C[0]))\n",
    "    vmaxC = np.max(np.max(field_C[0]))\n",
    "    vabsC = max([abs(vminC), abs(vmaxC)])\n",
    "\n",
    "    # vmin = min([vminA, vminB, vminC])\n",
    "    # vmax = max([vmaxA, vmaxB, vmaxC])\n",
    "    # vabs = max([abs(vmin), abs(vmax)])\n",
    "\n",
    "\n",
    "    grid = turboreader.load_grid()\n",
    "\n",
    "    visualise_field(axs[0], field_A, grid, -vabsA, vabsA, 0.6, plot_offset)\n",
    "    visualise_field(axs[1], field_B, grid, -vabsB, vabsB, 0.6, plot_offset)\n",
    "    visualise_field(axs[2], field_C, grid, -vabsC, vabsC, 0.6, plot_offset)\n",
    "\n",
    "    for ax in axs:\n",
    "        ax.set_aspect(\"equal\")\n",
    "\n",
    "    for i in range(3):\n",
    "        axs[i].set_xlabel(r\"$x$\")\n",
    "    axs[0].set_ylabel(r\"$y$\")\n",
    "\n",
    "    axs[0].set_title(\"Direct\")\n",
    "    axs[1].set_title(\"Direct reconstructed\")\n",
    "    axs[2].set_title(\"FJLT reconstructed\")\n",
    "\n",
    "    for ax in axs:\n",
    "        ax.axis(\"off\")\n",
    "\n",
    "    return None"
   ]
  },
  {
   "cell_type": "code",
   "execution_count": null,
   "metadata": {},
   "outputs": [],
   "source": [
    "# Need to plot every second one as they come in c.c. pairs\n",
    "dir_mode_vis_cut = []\n",
    "dir_mode_reconstructed_vis_cut = []\n",
    "fjlt_mode_reconstructed_vis_cut = []\n",
    "\n",
    "for i, (dir_field, dir_reconstr_field, fjlt_reconstr_field) in enumerate(zip(dir_mode_vis, dir_mode_reconstructed_vis, fjlt_mode_reconstructed_vis)):\n",
    "    if i%2 == 0:\n",
    "        dir_mode_vis_cut.append(dir_field)\n",
    "        dir_mode_reconstructed_vis_cut.append(dir_reconstr_field)\n",
    "        fjlt_mode_reconstructed_vis_cut.append(fjlt_reconstr_field)"
   ]
  },
  {
   "cell_type": "code",
   "execution_count": null,
   "metadata": {},
   "outputs": [],
   "source": [
    "plt.style.use(\"../../../mplstyles/paper_full.mplstyle\")\n",
    "plot_offset = 0.6*3 + 0.3\n",
    "\n",
    "fig, axs = plt.subplots(ncols=3, nrows=1, figsize=(5.18, 2*8), sharey=True)\n",
    "\n",
    "for mode in range(6):\n",
    "    compare_three_snapshots(axs, dir_mode_vis_cut, dir_mode_reconstructed_vis_cut, fjlt_mode_reconstructed_vis_cut, reader, 0, mode, plot_offset*mode)\n",
    "plt.savefig(\"../figures/dmd_reconst_num_snaps_{}.pdf\".format(num_snapshots),\n",
    "            bbox_inches=\"tight\", pad_inches=0.1,\n",
    "            facecolor=None, edgecolor='auto', dpi=300\n",
    "            )"
   ]
  }
 ],
 "metadata": {
  "kernelspec": {
   "display_name": "base",
   "language": "python",
   "name": "python3"
  },
  "language_info": {
   "codemirror_mode": {
    "name": "ipython",
    "version": 3
   },
   "file_extension": ".py",
   "mimetype": "text/x-python",
   "name": "python",
   "nbconvert_exporter": "python",
   "pygments_lexer": "ipython3",
   "version": "3.12.5"
  }
 },
 "nbformat": 4,
 "nbformat_minor": 2
}
