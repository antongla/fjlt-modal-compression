{
 "cells": [
  {
   "cell_type": "code",
   "execution_count": null,
   "metadata": {},
   "outputs": [],
   "source": [
    "from tqdm import tqdm\n",
    "from collections import deque\n",
    "import sys\n",
    "import numpy as np\n",
    "sys.path.append('../../../utils')\n",
    "from TurboFJLT import *\n",
    "from TurboFJLT_helpers import FJLT, TurboHDF5Reader"
   ]
  },
  {
   "cell_type": "code",
   "execution_count": null,
   "metadata": {},
   "outputs": [],
   "source": [
    "datafile = \"../../../data/fine_airfoil_cascade.h5\"\n",
    "reader = TurboHDF5Reader(datafile)\n",
    "print(reader)"
   ]
  },
  {
   "cell_type": "code",
   "execution_count": null,
   "metadata": {},
   "outputs": [],
   "source": [
    "num_snapshots = 500\n",
    "snapshot_sequence = list(range(num_snapshots))"
   ]
  },
  {
   "cell_type": "code",
   "execution_count": null,
   "metadata": {},
   "outputs": [],
   "source": [
    "q_mf = reader.load_meanflow()"
   ]
  },
  {
   "cell_type": "markdown",
   "metadata": {},
   "source": [
    "### Approach used in notebooks"
   ]
  },
  {
   "cell_type": "code",
   "execution_count": null,
   "metadata": {},
   "outputs": [],
   "source": [
    "def formQ(reader, seq_to_extract):\n",
    "    num_dofs = reader.state_dim\n",
    "    Q = np.empty((num_dofs, len(list(seq_to_extract))))\n",
    "    reader.reset_chunked_loading(seq_to_extract, chunks_dim=50)\n",
    "    for i, _ in enumerate(tqdm(seq_to_extract)):\n",
    "        Q[:, i] = reader.load_next()-q_mf\n",
    "    return Q"
   ]
  },
  {
   "cell_type": "code",
   "execution_count": null,
   "metadata": {},
   "outputs": [],
   "source": [
    "%%time\n",
    "Q = formQ(reader, snapshot_sequence)"
   ]
  },
  {
   "cell_type": "markdown",
   "metadata": {},
   "source": [
    "### Check the I/O speed"
   ]
  },
  {
   "cell_type": "code",
   "execution_count": null,
   "metadata": {},
   "outputs": [],
   "source": [
    "def formQ_v2(reader, seq_to_extract):\n",
    "    num_dofs = reader.state_dim\n",
    "    # Q = np.empty((num_dofs, len(list(seq_to_extract))), dtype=np.float64)\n",
    "    Q = deque([])\n",
    "    reader.reset_chunked_loading(seq_to_extract, chunks_dim=50)\n",
    "    for i, _ in enumerate(tqdm(seq_to_extract)):\n",
    "        col = reader.load_next()-q_mf\n",
    "        Q.append(col)\n",
    "    return Q"
   ]
  },
  {
   "cell_type": "code",
   "execution_count": null,
   "metadata": {},
   "outputs": [],
   "source": [
    "%%time\n",
    "Q = formQ_v2(reader, snapshot_sequence)"
   ]
  },
  {
   "cell_type": "code",
   "execution_count": null,
   "metadata": {},
   "outputs": [],
   "source": [
    "%%time\n",
    "Q_arr = np.empty((reader.state_dim, len(snapshot_sequence)))\n",
    "for i in tqdm(range(100)):\n",
    "    Q_arr[:, i] = Q.popleft()"
   ]
  }
 ],
 "metadata": {
  "kernelspec": {
   "display_name": "Python 3",
   "language": "python",
   "name": "python3"
  },
  "language_info": {
   "codemirror_mode": {
    "name": "ipython",
    "version": 3
   },
   "file_extension": ".py",
   "mimetype": "text/x-python",
   "name": "python",
   "nbconvert_exporter": "python",
   "pygments_lexer": "ipython3",
   "version": "3.12.5"
  }
 },
 "nbformat": 4,
 "nbformat_minor": 2
}
