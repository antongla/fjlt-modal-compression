{
 "cells": [
  {
   "cell_type": "code",
   "execution_count": null,
   "metadata": {},
   "outputs": [],
   "source": [
    "import numpy as np\n",
    "import matplotlib.pyplot as plt\n",
    "from matplotlib import animation\n",
    "from matplotlib.animation import FuncAnimation\n",
    "import sys\n",
    "sys.path.append('../utils')\n",
    "from TurboFJLT import *\n",
    "from TurboFJLT_helpers import TurboHDF5Reader, TurboVisual"
   ]
  },
  {
   "cell_type": "code",
   "execution_count": null,
   "metadata": {},
   "outputs": [],
   "source": [
    "file_name = \"./fine_airfoil_cascade.h5\"\n",
    "reader = TurboHDF5Reader(file_name)\n",
    "print(reader)"
   ]
  },
  {
   "cell_type": "code",
   "execution_count": null,
   "metadata": {},
   "outputs": [],
   "source": [
    "snapshot_list = np.arange(0, 60)"
   ]
  },
  {
   "cell_type": "code",
   "execution_count": null,
   "metadata": {},
   "outputs": [],
   "source": [
    "def setup_animation(vis, snapshots_to_plot):\n",
    "    vis.reader.reset_chunked_loading(snapshots_to_plot, chunks_dim=20)\n",
    "    return None"
   ]
  },
  {
   "cell_type": "code",
   "execution_count": null,
   "metadata": {},
   "outputs": [],
   "source": [
    "vis = TurboVisual(reader)\n",
    "setup_animation(vis, snapshot_list)"
   ]
  },
  {
   "cell_type": "code",
   "execution_count": null,
   "metadata": {},
   "outputs": [],
   "source": [
    "def get_animation_frame(frame):\n",
    "    snap_raw = vis.reader.load_next()\n",
    "    snap_vis = vis.reader.reconstruct_field(snap_raw)\n",
    "    vis.plot_field(ax, snap_vis, 0, region=1)\n",
    "    vis.plot_field(ax, snap_vis, 0, region=1, grid_offset=0.6)\n",
    "    vis.plot_field(ax, snap_vis, 0, region=1, grid_offset=-0.6)\n",
    "    ax.set_xlim(-0.65, 3)\n",
    "    ax.set_ylim(-0.3, 0.7)\n",
    "    ax.axis(\"off\")"
   ]
  },
  {
   "cell_type": "code",
   "execution_count": null,
   "metadata": {},
   "outputs": [],
   "source": [
    "fig, ax = plt.subplots(nrows=1, ncols=1)\n",
    "get_animation_frame(0)"
   ]
  },
  {
   "cell_type": "code",
   "execution_count": null,
   "metadata": {},
   "outputs": [],
   "source": [
    "fig, ax = plt.subplots(nrows=1, ncols=1)\n",
    "anim = FuncAnimation(fig, get_animation_frame, frames=len(snapshot_list))\n",
    "writervideo = animation.FFMpegWriter(fps=30)\n",
    "anim.save(\"./test.mp4\", writer=writervideo, dpi=300)"
   ]
  }
 ],
 "metadata": {
  "kernelspec": {
   "display_name": "base",
   "language": "python",
   "name": "python3"
  },
  "language_info": {
   "codemirror_mode": {
    "name": "ipython",
    "version": 3
   },
   "file_extension": ".py",
   "mimetype": "text/x-python",
   "name": "python",
   "nbconvert_exporter": "python",
   "pygments_lexer": "ipython3",
   "version": "3.11.4"
  }
 },
 "nbformat": 4,
 "nbformat_minor": 2
}
